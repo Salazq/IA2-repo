{
  "cells": [
    {
      "cell_type": "markdown",
      "metadata": {
        "id": "h0hVNAozgzJm"
      },
      "source": [
        "# **1. Demo Básica de Retrieval-Augmented Generation (BasicRAG) con Gemini:**"
      ]
    },
    {
      "cell_type": "markdown",
      "metadata": {
        "id": "r7VmJZQKqtlO"
      },
      "source": [
        "## **Preparación del entorno:**"
      ]
    },
    {
      "cell_type": "code",
      "execution_count": 1,
      "metadata": {
        "colab": {
          "base_uri": "https://localhost:8080/"
        },
        "id": "Clo-IDEYWys-",
        "outputId": "ee4b00c3-91c2-4544-9364-346bbdf60871"
      },
      "outputs": [
        {
          "output_type": "stream",
          "name": "stdout",
          "text": [
            "Requirement already satisfied: chromadb in /usr/local/lib/python3.12/dist-packages (1.1.0)\n",
            "Requirement already satisfied: sentence-transformers in /usr/local/lib/python3.12/dist-packages (5.1.0)\n",
            "Requirement already satisfied: google-generativeai in /usr/local/lib/python3.12/dist-packages (0.8.5)\n",
            "Requirement already satisfied: build>=1.0.3 in /usr/local/lib/python3.12/dist-packages (from chromadb) (1.3.0)\n",
            "Requirement already satisfied: pydantic>=1.9 in /usr/local/lib/python3.12/dist-packages (from chromadb) (2.11.9)\n",
            "Requirement already satisfied: pybase64>=1.4.1 in /usr/local/lib/python3.12/dist-packages (from chromadb) (1.4.2)\n",
            "Requirement already satisfied: uvicorn>=0.18.3 in /usr/local/lib/python3.12/dist-packages (from uvicorn[standard]>=0.18.3->chromadb) (0.35.0)\n",
            "Requirement already satisfied: numpy>=1.22.5 in /usr/local/lib/python3.12/dist-packages (from chromadb) (2.0.2)\n",
            "Requirement already satisfied: posthog<6.0.0,>=2.4.0 in /usr/local/lib/python3.12/dist-packages (from chromadb) (5.4.0)\n",
            "Requirement already satisfied: typing-extensions>=4.5.0 in /usr/local/lib/python3.12/dist-packages (from chromadb) (4.15.0)\n",
            "Requirement already satisfied: onnxruntime>=1.14.1 in /usr/local/lib/python3.12/dist-packages (from chromadb) (1.22.1)\n",
            "Requirement already satisfied: opentelemetry-api>=1.2.0 in /usr/local/lib/python3.12/dist-packages (from chromadb) (1.37.0)\n",
            "Requirement already satisfied: opentelemetry-exporter-otlp-proto-grpc>=1.2.0 in /usr/local/lib/python3.12/dist-packages (from chromadb) (1.37.0)\n",
            "Requirement already satisfied: opentelemetry-sdk>=1.2.0 in /usr/local/lib/python3.12/dist-packages (from chromadb) (1.37.0)\n",
            "Requirement already satisfied: tokenizers>=0.13.2 in /usr/local/lib/python3.12/dist-packages (from chromadb) (0.22.0)\n",
            "Requirement already satisfied: pypika>=0.48.9 in /usr/local/lib/python3.12/dist-packages (from chromadb) (0.48.9)\n",
            "Requirement already satisfied: tqdm>=4.65.0 in /usr/local/lib/python3.12/dist-packages (from chromadb) (4.67.1)\n",
            "Requirement already satisfied: overrides>=7.3.1 in /usr/local/lib/python3.12/dist-packages (from chromadb) (7.7.0)\n",
            "Requirement already satisfied: importlib-resources in /usr/local/lib/python3.12/dist-packages (from chromadb) (6.5.2)\n",
            "Requirement already satisfied: grpcio>=1.58.0 in /usr/local/lib/python3.12/dist-packages (from chromadb) (1.75.0)\n",
            "Requirement already satisfied: bcrypt>=4.0.1 in /usr/local/lib/python3.12/dist-packages (from chromadb) (4.3.0)\n",
            "Requirement already satisfied: typer>=0.9.0 in /usr/local/lib/python3.12/dist-packages (from chromadb) (0.17.4)\n",
            "Requirement already satisfied: kubernetes>=28.1.0 in /usr/local/lib/python3.12/dist-packages (from chromadb) (33.1.0)\n",
            "Requirement already satisfied: tenacity>=8.2.3 in /usr/local/lib/python3.12/dist-packages (from chromadb) (8.5.0)\n",
            "Requirement already satisfied: pyyaml>=6.0.0 in /usr/local/lib/python3.12/dist-packages (from chromadb) (6.0.2)\n",
            "Requirement already satisfied: mmh3>=4.0.1 in /usr/local/lib/python3.12/dist-packages (from chromadb) (5.2.0)\n",
            "Requirement already satisfied: orjson>=3.9.12 in /usr/local/lib/python3.12/dist-packages (from chromadb) (3.11.3)\n",
            "Requirement already satisfied: httpx>=0.27.0 in /usr/local/lib/python3.12/dist-packages (from chromadb) (0.28.1)\n",
            "Requirement already satisfied: rich>=10.11.0 in /usr/local/lib/python3.12/dist-packages (from chromadb) (13.9.4)\n",
            "Requirement already satisfied: jsonschema>=4.19.0 in /usr/local/lib/python3.12/dist-packages (from chromadb) (4.25.1)\n",
            "Requirement already satisfied: transformers<5.0.0,>=4.41.0 in /usr/local/lib/python3.12/dist-packages (from sentence-transformers) (4.56.2)\n",
            "Requirement already satisfied: torch>=1.11.0 in /usr/local/lib/python3.12/dist-packages (from sentence-transformers) (2.8.0+cu126)\n",
            "Requirement already satisfied: scikit-learn in /usr/local/lib/python3.12/dist-packages (from sentence-transformers) (1.6.1)\n",
            "Requirement already satisfied: scipy in /usr/local/lib/python3.12/dist-packages (from sentence-transformers) (1.16.2)\n",
            "Requirement already satisfied: huggingface-hub>=0.20.0 in /usr/local/lib/python3.12/dist-packages (from sentence-transformers) (0.35.0)\n",
            "Requirement already satisfied: Pillow in /usr/local/lib/python3.12/dist-packages (from sentence-transformers) (11.3.0)\n",
            "Requirement already satisfied: google-ai-generativelanguage==0.6.15 in /usr/local/lib/python3.12/dist-packages (from google-generativeai) (0.6.15)\n",
            "Requirement already satisfied: google-api-core in /usr/local/lib/python3.12/dist-packages (from google-generativeai) (2.25.1)\n",
            "Requirement already satisfied: google-api-python-client in /usr/local/lib/python3.12/dist-packages (from google-generativeai) (2.182.0)\n",
            "Requirement already satisfied: google-auth>=2.15.0 in /usr/local/lib/python3.12/dist-packages (from google-generativeai) (2.38.0)\n",
            "Requirement already satisfied: protobuf in /usr/local/lib/python3.12/dist-packages (from google-generativeai) (5.29.5)\n",
            "Requirement already satisfied: proto-plus<2.0.0dev,>=1.22.3 in /usr/local/lib/python3.12/dist-packages (from google-ai-generativelanguage==0.6.15->google-generativeai) (1.26.1)\n",
            "Requirement already satisfied: packaging>=19.1 in /usr/local/lib/python3.12/dist-packages (from build>=1.0.3->chromadb) (25.0)\n",
            "Requirement already satisfied: pyproject_hooks in /usr/local/lib/python3.12/dist-packages (from build>=1.0.3->chromadb) (1.2.0)\n",
            "Requirement already satisfied: googleapis-common-protos<2.0.0,>=1.56.2 in /usr/local/lib/python3.12/dist-packages (from google-api-core->google-generativeai) (1.70.0)\n",
            "Requirement already satisfied: requests<3.0.0,>=2.18.0 in /usr/local/lib/python3.12/dist-packages (from google-api-core->google-generativeai) (2.32.4)\n",
            "Requirement already satisfied: cachetools<6.0,>=2.0.0 in /usr/local/lib/python3.12/dist-packages (from google-auth>=2.15.0->google-generativeai) (5.5.2)\n",
            "Requirement already satisfied: pyasn1-modules>=0.2.1 in /usr/local/lib/python3.12/dist-packages (from google-auth>=2.15.0->google-generativeai) (0.4.2)\n",
            "Requirement already satisfied: rsa<5,>=3.1.4 in /usr/local/lib/python3.12/dist-packages (from google-auth>=2.15.0->google-generativeai) (4.9.1)\n",
            "Requirement already satisfied: anyio in /usr/local/lib/python3.12/dist-packages (from httpx>=0.27.0->chromadb) (4.10.0)\n",
            "Requirement already satisfied: certifi in /usr/local/lib/python3.12/dist-packages (from httpx>=0.27.0->chromadb) (2025.8.3)\n",
            "Requirement already satisfied: httpcore==1.* in /usr/local/lib/python3.12/dist-packages (from httpx>=0.27.0->chromadb) (1.0.9)\n",
            "Requirement already satisfied: idna in /usr/local/lib/python3.12/dist-packages (from httpx>=0.27.0->chromadb) (3.10)\n",
            "Requirement already satisfied: h11>=0.16 in /usr/local/lib/python3.12/dist-packages (from httpcore==1.*->httpx>=0.27.0->chromadb) (0.16.0)\n",
            "Requirement already satisfied: filelock in /usr/local/lib/python3.12/dist-packages (from huggingface-hub>=0.20.0->sentence-transformers) (3.19.1)\n",
            "Requirement already satisfied: fsspec>=2023.5.0 in /usr/local/lib/python3.12/dist-packages (from huggingface-hub>=0.20.0->sentence-transformers) (2025.3.0)\n",
            "Requirement already satisfied: hf-xet<2.0.0,>=1.1.3 in /usr/local/lib/python3.12/dist-packages (from huggingface-hub>=0.20.0->sentence-transformers) (1.1.10)\n",
            "Requirement already satisfied: attrs>=22.2.0 in /usr/local/lib/python3.12/dist-packages (from jsonschema>=4.19.0->chromadb) (25.3.0)\n",
            "Requirement already satisfied: jsonschema-specifications>=2023.03.6 in /usr/local/lib/python3.12/dist-packages (from jsonschema>=4.19.0->chromadb) (2025.9.1)\n",
            "Requirement already satisfied: referencing>=0.28.4 in /usr/local/lib/python3.12/dist-packages (from jsonschema>=4.19.0->chromadb) (0.36.2)\n",
            "Requirement already satisfied: rpds-py>=0.7.1 in /usr/local/lib/python3.12/dist-packages (from jsonschema>=4.19.0->chromadb) (0.27.1)\n",
            "Requirement already satisfied: six>=1.9.0 in /usr/local/lib/python3.12/dist-packages (from kubernetes>=28.1.0->chromadb) (1.17.0)\n",
            "Requirement already satisfied: python-dateutil>=2.5.3 in /usr/local/lib/python3.12/dist-packages (from kubernetes>=28.1.0->chromadb) (2.9.0.post0)\n",
            "Requirement already satisfied: websocket-client!=0.40.0,!=0.41.*,!=0.42.*,>=0.32.0 in /usr/local/lib/python3.12/dist-packages (from kubernetes>=28.1.0->chromadb) (1.8.0)\n",
            "Requirement already satisfied: requests-oauthlib in /usr/local/lib/python3.12/dist-packages (from kubernetes>=28.1.0->chromadb) (2.0.0)\n",
            "Requirement already satisfied: oauthlib>=3.2.2 in /usr/local/lib/python3.12/dist-packages (from kubernetes>=28.1.0->chromadb) (3.3.1)\n",
            "Requirement already satisfied: urllib3>=1.24.2 in /usr/local/lib/python3.12/dist-packages (from kubernetes>=28.1.0->chromadb) (2.5.0)\n",
            "Requirement already satisfied: durationpy>=0.7 in /usr/local/lib/python3.12/dist-packages (from kubernetes>=28.1.0->chromadb) (0.10)\n",
            "Requirement already satisfied: coloredlogs in /usr/local/lib/python3.12/dist-packages (from onnxruntime>=1.14.1->chromadb) (15.0.1)\n",
            "Requirement already satisfied: flatbuffers in /usr/local/lib/python3.12/dist-packages (from onnxruntime>=1.14.1->chromadb) (25.2.10)\n",
            "Requirement already satisfied: sympy in /usr/local/lib/python3.12/dist-packages (from onnxruntime>=1.14.1->chromadb) (1.13.3)\n",
            "Requirement already satisfied: importlib-metadata<8.8.0,>=6.0 in /usr/local/lib/python3.12/dist-packages (from opentelemetry-api>=1.2.0->chromadb) (8.7.0)\n",
            "Requirement already satisfied: opentelemetry-exporter-otlp-proto-common==1.37.0 in /usr/local/lib/python3.12/dist-packages (from opentelemetry-exporter-otlp-proto-grpc>=1.2.0->chromadb) (1.37.0)\n",
            "Requirement already satisfied: opentelemetry-proto==1.37.0 in /usr/local/lib/python3.12/dist-packages (from opentelemetry-exporter-otlp-proto-grpc>=1.2.0->chromadb) (1.37.0)\n",
            "Requirement already satisfied: opentelemetry-semantic-conventions==0.58b0 in /usr/local/lib/python3.12/dist-packages (from opentelemetry-sdk>=1.2.0->chromadb) (0.58b0)\n",
            "Requirement already satisfied: backoff>=1.10.0 in /usr/local/lib/python3.12/dist-packages (from posthog<6.0.0,>=2.4.0->chromadb) (2.2.1)\n",
            "Requirement already satisfied: distro>=1.5.0 in /usr/local/lib/python3.12/dist-packages (from posthog<6.0.0,>=2.4.0->chromadb) (1.9.0)\n",
            "Requirement already satisfied: annotated-types>=0.6.0 in /usr/local/lib/python3.12/dist-packages (from pydantic>=1.9->chromadb) (0.7.0)\n",
            "Requirement already satisfied: pydantic-core==2.33.2 in /usr/local/lib/python3.12/dist-packages (from pydantic>=1.9->chromadb) (2.33.2)\n",
            "Requirement already satisfied: typing-inspection>=0.4.0 in /usr/local/lib/python3.12/dist-packages (from pydantic>=1.9->chromadb) (0.4.1)\n",
            "Requirement already satisfied: markdown-it-py>=2.2.0 in /usr/local/lib/python3.12/dist-packages (from rich>=10.11.0->chromadb) (4.0.0)\n",
            "Requirement already satisfied: pygments<3.0.0,>=2.13.0 in /usr/local/lib/python3.12/dist-packages (from rich>=10.11.0->chromadb) (2.19.2)\n",
            "Requirement already satisfied: setuptools in /usr/local/lib/python3.12/dist-packages (from torch>=1.11.0->sentence-transformers) (75.2.0)\n",
            "Requirement already satisfied: networkx in /usr/local/lib/python3.12/dist-packages (from torch>=1.11.0->sentence-transformers) (3.5)\n",
            "Requirement already satisfied: jinja2 in /usr/local/lib/python3.12/dist-packages (from torch>=1.11.0->sentence-transformers) (3.1.6)\n",
            "Requirement already satisfied: nvidia-cuda-nvrtc-cu12==12.6.77 in /usr/local/lib/python3.12/dist-packages (from torch>=1.11.0->sentence-transformers) (12.6.77)\n",
            "Requirement already satisfied: nvidia-cuda-runtime-cu12==12.6.77 in /usr/local/lib/python3.12/dist-packages (from torch>=1.11.0->sentence-transformers) (12.6.77)\n",
            "Requirement already satisfied: nvidia-cuda-cupti-cu12==12.6.80 in /usr/local/lib/python3.12/dist-packages (from torch>=1.11.0->sentence-transformers) (12.6.80)\n",
            "Requirement already satisfied: nvidia-cudnn-cu12==9.10.2.21 in /usr/local/lib/python3.12/dist-packages (from torch>=1.11.0->sentence-transformers) (9.10.2.21)\n",
            "Requirement already satisfied: nvidia-cublas-cu12==12.6.4.1 in /usr/local/lib/python3.12/dist-packages (from torch>=1.11.0->sentence-transformers) (12.6.4.1)\n",
            "Requirement already satisfied: nvidia-cufft-cu12==11.3.0.4 in /usr/local/lib/python3.12/dist-packages (from torch>=1.11.0->sentence-transformers) (11.3.0.4)\n",
            "Requirement already satisfied: nvidia-curand-cu12==10.3.7.77 in /usr/local/lib/python3.12/dist-packages (from torch>=1.11.0->sentence-transformers) (10.3.7.77)\n",
            "Requirement already satisfied: nvidia-cusolver-cu12==11.7.1.2 in /usr/local/lib/python3.12/dist-packages (from torch>=1.11.0->sentence-transformers) (11.7.1.2)\n",
            "Requirement already satisfied: nvidia-cusparse-cu12==12.5.4.2 in /usr/local/lib/python3.12/dist-packages (from torch>=1.11.0->sentence-transformers) (12.5.4.2)\n",
            "Requirement already satisfied: nvidia-cusparselt-cu12==0.7.1 in /usr/local/lib/python3.12/dist-packages (from torch>=1.11.0->sentence-transformers) (0.7.1)\n",
            "Requirement already satisfied: nvidia-nccl-cu12==2.27.3 in /usr/local/lib/python3.12/dist-packages (from torch>=1.11.0->sentence-transformers) (2.27.3)\n",
            "Requirement already satisfied: nvidia-nvtx-cu12==12.6.77 in /usr/local/lib/python3.12/dist-packages (from torch>=1.11.0->sentence-transformers) (12.6.77)\n",
            "Requirement already satisfied: nvidia-nvjitlink-cu12==12.6.85 in /usr/local/lib/python3.12/dist-packages (from torch>=1.11.0->sentence-transformers) (12.6.85)\n",
            "Requirement already satisfied: nvidia-cufile-cu12==1.11.1.6 in /usr/local/lib/python3.12/dist-packages (from torch>=1.11.0->sentence-transformers) (1.11.1.6)\n",
            "Requirement already satisfied: triton==3.4.0 in /usr/local/lib/python3.12/dist-packages (from torch>=1.11.0->sentence-transformers) (3.4.0)\n",
            "Requirement already satisfied: regex!=2019.12.17 in /usr/local/lib/python3.12/dist-packages (from transformers<5.0.0,>=4.41.0->sentence-transformers) (2024.11.6)\n",
            "Requirement already satisfied: safetensors>=0.4.3 in /usr/local/lib/python3.12/dist-packages (from transformers<5.0.0,>=4.41.0->sentence-transformers) (0.6.2)\n",
            "Requirement already satisfied: click>=8.0.0 in /usr/local/lib/python3.12/dist-packages (from typer>=0.9.0->chromadb) (8.2.1)\n",
            "Requirement already satisfied: shellingham>=1.3.0 in /usr/local/lib/python3.12/dist-packages (from typer>=0.9.0->chromadb) (1.5.4)\n",
            "Requirement already satisfied: httptools>=0.6.3 in /usr/local/lib/python3.12/dist-packages (from uvicorn[standard]>=0.18.3->chromadb) (0.6.4)\n",
            "Requirement already satisfied: python-dotenv>=0.13 in /usr/local/lib/python3.12/dist-packages (from uvicorn[standard]>=0.18.3->chromadb) (1.1.1)\n",
            "Requirement already satisfied: uvloop>=0.15.1 in /usr/local/lib/python3.12/dist-packages (from uvicorn[standard]>=0.18.3->chromadb) (0.21.0)\n",
            "Requirement already satisfied: watchfiles>=0.13 in /usr/local/lib/python3.12/dist-packages (from uvicorn[standard]>=0.18.3->chromadb) (1.1.0)\n",
            "Requirement already satisfied: websockets>=10.4 in /usr/local/lib/python3.12/dist-packages (from uvicorn[standard]>=0.18.3->chromadb) (15.0.1)\n",
            "Requirement already satisfied: httplib2<1.0.0,>=0.19.0 in /usr/local/lib/python3.12/dist-packages (from google-api-python-client->google-generativeai) (0.31.0)\n",
            "Requirement already satisfied: google-auth-httplib2<1.0.0,>=0.2.0 in /usr/local/lib/python3.12/dist-packages (from google-api-python-client->google-generativeai) (0.2.0)\n",
            "Requirement already satisfied: uritemplate<5,>=3.0.1 in /usr/local/lib/python3.12/dist-packages (from google-api-python-client->google-generativeai) (4.2.0)\n",
            "Requirement already satisfied: joblib>=1.2.0 in /usr/local/lib/python3.12/dist-packages (from scikit-learn->sentence-transformers) (1.5.2)\n",
            "Requirement already satisfied: threadpoolctl>=3.1.0 in /usr/local/lib/python3.12/dist-packages (from scikit-learn->sentence-transformers) (3.6.0)\n",
            "Requirement already satisfied: grpcio-status<2.0.0,>=1.33.2 in /usr/local/lib/python3.12/dist-packages (from google-api-core[grpc]!=2.0.*,!=2.1.*,!=2.10.*,!=2.2.*,!=2.3.*,!=2.4.*,!=2.5.*,!=2.6.*,!=2.7.*,!=2.8.*,!=2.9.*,<3.0.0dev,>=1.34.1->google-ai-generativelanguage==0.6.15->google-generativeai) (1.71.2)\n",
            "Requirement already satisfied: pyparsing<4,>=3.0.4 in /usr/local/lib/python3.12/dist-packages (from httplib2<1.0.0,>=0.19.0->google-api-python-client->google-generativeai) (3.2.4)\n",
            "Requirement already satisfied: zipp>=3.20 in /usr/local/lib/python3.12/dist-packages (from importlib-metadata<8.8.0,>=6.0->opentelemetry-api>=1.2.0->chromadb) (3.23.0)\n",
            "Requirement already satisfied: mdurl~=0.1 in /usr/local/lib/python3.12/dist-packages (from markdown-it-py>=2.2.0->rich>=10.11.0->chromadb) (0.1.2)\n",
            "Requirement already satisfied: pyasn1<0.7.0,>=0.6.1 in /usr/local/lib/python3.12/dist-packages (from pyasn1-modules>=0.2.1->google-auth>=2.15.0->google-generativeai) (0.6.1)\n",
            "Requirement already satisfied: charset_normalizer<4,>=2 in /usr/local/lib/python3.12/dist-packages (from requests<3.0.0,>=2.18.0->google-api-core->google-generativeai) (3.4.3)\n",
            "Requirement already satisfied: mpmath<1.4,>=1.1.0 in /usr/local/lib/python3.12/dist-packages (from sympy->onnxruntime>=1.14.1->chromadb) (1.3.0)\n",
            "Requirement already satisfied: sniffio>=1.1 in /usr/local/lib/python3.12/dist-packages (from anyio->httpx>=0.27.0->chromadb) (1.3.1)\n",
            "Requirement already satisfied: humanfriendly>=9.1 in /usr/local/lib/python3.12/dist-packages (from coloredlogs->onnxruntime>=1.14.1->chromadb) (10.0)\n",
            "Requirement already satisfied: MarkupSafe>=2.0 in /usr/local/lib/python3.12/dist-packages (from jinja2->torch>=1.11.0->sentence-transformers) (3.0.2)\n"
          ]
        }
      ],
      "source": [
        "# ================= DEMO RAG CON GEMINI ==================\n",
        "!pip install chromadb sentence-transformers google-generativeai\n",
        "!pip -q install nltk rouge-score matplotlib seaborn bert-score pandas transformers --upgrade\n",
        "\n",
        "import os\n",
        "import google.generativeai as genai\n",
        "from sentence_transformers import SentenceTransformer\n",
        "import chromadb\n",
        "from google.colab import files\n",
        "from transformers import pipeline"
      ]
    },
    {
      "cell_type": "code",
      "source": [
        "import nltk\n",
        "from nltk.translate.bleu_score import sentence_bleu, SmoothingFunction\n",
        "from rouge_score import rouge_scorer\n",
        "import matplotlib.pyplot as plt\n",
        "import seaborn as sns\n",
        "import pandas as pd\n",
        "import numpy as np\n",
        "from nltk.tokenize import word_tokenize\n",
        "import bert_score as bs # Alias the impor\n",
        "try:\n",
        "    from bert_score import score\n",
        "    bertscore_available = True\n",
        "    print('BERTScore available!')\n",
        "except ImportError:\n",
        "    print('BERTScore not available - will use simulated scores')\n",
        "    bertscore_available = False\n",
        "nltk.download('punkt')\n",
        "nltk.download('punkt_tab')\n",
        "print('Setup complete.')"
      ],
      "metadata": {
        "colab": {
          "base_uri": "https://localhost:8080/"
        },
        "id": "nH-vBqkSwIau",
        "outputId": "10cd4c4f-7179-49e9-ab22-bb142116b7a1"
      },
      "execution_count": 2,
      "outputs": [
        {
          "output_type": "stream",
          "name": "stdout",
          "text": [
            "BERTScore available!\n",
            "Setup complete.\n"
          ]
        },
        {
          "output_type": "stream",
          "name": "stderr",
          "text": [
            "[nltk_data] Downloading package punkt to /root/nltk_data...\n",
            "[nltk_data]   Package punkt is already up-to-date!\n",
            "[nltk_data] Downloading package punkt_tab to /root/nltk_data...\n",
            "[nltk_data]   Package punkt_tab is already up-to-date!\n"
          ]
        }
      ]
    },
    {
      "cell_type": "code",
      "source": [
        "os.environ[\"GEMINI_API_KEY\"] = \"\"\n",
        "genai.configure(api_key=os.environ[\"GEMINI_API_KEY\"])"
      ],
      "metadata": {
        "id": "GzvEj0e44V3p"
      },
      "execution_count": 3,
      "outputs": []
    },
    {
      "cell_type": "code",
      "source": [
        "# ========= 2. SUBIR ARCHIVO =========\n",
        "print(\"Sube un archivo de texto con información (ej: cuantica.txt)\")\n",
        "uploaded = files.upload()\n",
        "\n",
        "file_name = list(uploaded.keys())[0]\n",
        "with open(file_name, \"r\", encoding=\"utf-8\") as f:\n",
        "    text = f.read()\n"
      ],
      "metadata": {
        "colab": {
          "base_uri": "https://localhost:8080/",
          "height": 90
        },
        "id": "FpgCoeChZZVS",
        "outputId": "723d73eb-bc87-4bb6-a223-92678c12f58d"
      },
      "execution_count": 4,
      "outputs": [
        {
          "output_type": "stream",
          "name": "stdout",
          "text": [
            "Sube un archivo de texto con información (ej: cuantica.txt)\n"
          ]
        },
        {
          "output_type": "display_data",
          "data": {
            "text/plain": [
              "<IPython.core.display.HTML object>"
            ],
            "text/html": [
              "\n",
              "     <input type=\"file\" id=\"files-25d966c9-f230-49ab-b113-d99d76884770\" name=\"files[]\" multiple disabled\n",
              "        style=\"border:none\" />\n",
              "     <output id=\"result-25d966c9-f230-49ab-b113-d99d76884770\">\n",
              "      Upload widget is only available when the cell has been executed in the\n",
              "      current browser session. Please rerun this cell to enable.\n",
              "      </output>\n",
              "      <script>// Copyright 2017 Google LLC\n",
              "//\n",
              "// Licensed under the Apache License, Version 2.0 (the \"License\");\n",
              "// you may not use this file except in compliance with the License.\n",
              "// You may obtain a copy of the License at\n",
              "//\n",
              "//      http://www.apache.org/licenses/LICENSE-2.0\n",
              "//\n",
              "// Unless required by applicable law or agreed to in writing, software\n",
              "// distributed under the License is distributed on an \"AS IS\" BASIS,\n",
              "// WITHOUT WARRANTIES OR CONDITIONS OF ANY KIND, either express or implied.\n",
              "// See the License for the specific language governing permissions and\n",
              "// limitations under the License.\n",
              "\n",
              "/**\n",
              " * @fileoverview Helpers for google.colab Python module.\n",
              " */\n",
              "(function(scope) {\n",
              "function span(text, styleAttributes = {}) {\n",
              "  const element = document.createElement('span');\n",
              "  element.textContent = text;\n",
              "  for (const key of Object.keys(styleAttributes)) {\n",
              "    element.style[key] = styleAttributes[key];\n",
              "  }\n",
              "  return element;\n",
              "}\n",
              "\n",
              "// Max number of bytes which will be uploaded at a time.\n",
              "const MAX_PAYLOAD_SIZE = 100 * 1024;\n",
              "\n",
              "function _uploadFiles(inputId, outputId) {\n",
              "  const steps = uploadFilesStep(inputId, outputId);\n",
              "  const outputElement = document.getElementById(outputId);\n",
              "  // Cache steps on the outputElement to make it available for the next call\n",
              "  // to uploadFilesContinue from Python.\n",
              "  outputElement.steps = steps;\n",
              "\n",
              "  return _uploadFilesContinue(outputId);\n",
              "}\n",
              "\n",
              "// This is roughly an async generator (not supported in the browser yet),\n",
              "// where there are multiple asynchronous steps and the Python side is going\n",
              "// to poll for completion of each step.\n",
              "// This uses a Promise to block the python side on completion of each step,\n",
              "// then passes the result of the previous step as the input to the next step.\n",
              "function _uploadFilesContinue(outputId) {\n",
              "  const outputElement = document.getElementById(outputId);\n",
              "  const steps = outputElement.steps;\n",
              "\n",
              "  const next = steps.next(outputElement.lastPromiseValue);\n",
              "  return Promise.resolve(next.value.promise).then((value) => {\n",
              "    // Cache the last promise value to make it available to the next\n",
              "    // step of the generator.\n",
              "    outputElement.lastPromiseValue = value;\n",
              "    return next.value.response;\n",
              "  });\n",
              "}\n",
              "\n",
              "/**\n",
              " * Generator function which is called between each async step of the upload\n",
              " * process.\n",
              " * @param {string} inputId Element ID of the input file picker element.\n",
              " * @param {string} outputId Element ID of the output display.\n",
              " * @return {!Iterable<!Object>} Iterable of next steps.\n",
              " */\n",
              "function* uploadFilesStep(inputId, outputId) {\n",
              "  const inputElement = document.getElementById(inputId);\n",
              "  inputElement.disabled = false;\n",
              "\n",
              "  const outputElement = document.getElementById(outputId);\n",
              "  outputElement.innerHTML = '';\n",
              "\n",
              "  const pickedPromise = new Promise((resolve) => {\n",
              "    inputElement.addEventListener('change', (e) => {\n",
              "      resolve(e.target.files);\n",
              "    });\n",
              "  });\n",
              "\n",
              "  const cancel = document.createElement('button');\n",
              "  inputElement.parentElement.appendChild(cancel);\n",
              "  cancel.textContent = 'Cancel upload';\n",
              "  const cancelPromise = new Promise((resolve) => {\n",
              "    cancel.onclick = () => {\n",
              "      resolve(null);\n",
              "    };\n",
              "  });\n",
              "\n",
              "  // Wait for the user to pick the files.\n",
              "  const files = yield {\n",
              "    promise: Promise.race([pickedPromise, cancelPromise]),\n",
              "    response: {\n",
              "      action: 'starting',\n",
              "    }\n",
              "  };\n",
              "\n",
              "  cancel.remove();\n",
              "\n",
              "  // Disable the input element since further picks are not allowed.\n",
              "  inputElement.disabled = true;\n",
              "\n",
              "  if (!files) {\n",
              "    return {\n",
              "      response: {\n",
              "        action: 'complete',\n",
              "      }\n",
              "    };\n",
              "  }\n",
              "\n",
              "  for (const file of files) {\n",
              "    const li = document.createElement('li');\n",
              "    li.append(span(file.name, {fontWeight: 'bold'}));\n",
              "    li.append(span(\n",
              "        `(${file.type || 'n/a'}) - ${file.size} bytes, ` +\n",
              "        `last modified: ${\n",
              "            file.lastModifiedDate ? file.lastModifiedDate.toLocaleDateString() :\n",
              "                                    'n/a'} - `));\n",
              "    const percent = span('0% done');\n",
              "    li.appendChild(percent);\n",
              "\n",
              "    outputElement.appendChild(li);\n",
              "\n",
              "    const fileDataPromise = new Promise((resolve) => {\n",
              "      const reader = new FileReader();\n",
              "      reader.onload = (e) => {\n",
              "        resolve(e.target.result);\n",
              "      };\n",
              "      reader.readAsArrayBuffer(file);\n",
              "    });\n",
              "    // Wait for the data to be ready.\n",
              "    let fileData = yield {\n",
              "      promise: fileDataPromise,\n",
              "      response: {\n",
              "        action: 'continue',\n",
              "      }\n",
              "    };\n",
              "\n",
              "    // Use a chunked sending to avoid message size limits. See b/62115660.\n",
              "    let position = 0;\n",
              "    do {\n",
              "      const length = Math.min(fileData.byteLength - position, MAX_PAYLOAD_SIZE);\n",
              "      const chunk = new Uint8Array(fileData, position, length);\n",
              "      position += length;\n",
              "\n",
              "      const base64 = btoa(String.fromCharCode.apply(null, chunk));\n",
              "      yield {\n",
              "        response: {\n",
              "          action: 'append',\n",
              "          file: file.name,\n",
              "          data: base64,\n",
              "        },\n",
              "      };\n",
              "\n",
              "      let percentDone = fileData.byteLength === 0 ?\n",
              "          100 :\n",
              "          Math.round((position / fileData.byteLength) * 100);\n",
              "      percent.textContent = `${percentDone}% done`;\n",
              "\n",
              "    } while (position < fileData.byteLength);\n",
              "  }\n",
              "\n",
              "  // All done.\n",
              "  yield {\n",
              "    response: {\n",
              "      action: 'complete',\n",
              "    }\n",
              "  };\n",
              "}\n",
              "\n",
              "scope.google = scope.google || {};\n",
              "scope.google.colab = scope.google.colab || {};\n",
              "scope.google.colab._files = {\n",
              "  _uploadFiles,\n",
              "  _uploadFilesContinue,\n",
              "};\n",
              "})(self);\n",
              "</script> "
            ]
          },
          "metadata": {}
        },
        {
          "output_type": "stream",
          "name": "stdout",
          "text": [
            "Saving cuantica.txt to cuantica (9).txt\n"
          ]
        }
      ]
    },
    {
      "cell_type": "code",
      "source": [
        "# ========= 3. FUNCIÓN DE CHUNKING =========\n",
        "def chunk_text(text, chunk_size=80, overlap=20):\n",
        "    words = text.split()\n",
        "    chunks = []\n",
        "    for i in range(0, len(words), chunk_size - overlap):\n",
        "        chunk = \" \".join(words[i:i+chunk_size])\n",
        "        chunks.append(chunk)\n",
        "    return chunks\n",
        "\n",
        "docs = chunk_text(text, chunk_size=80, overlap=20)\n",
        "\n",
        "print(\"Ejemplo de 3 chunks creados:\")\n",
        "for c in docs[:3]:\n",
        "    print(\"-\", c, \"\\n\")"
      ],
      "metadata": {
        "colab": {
          "base_uri": "https://localhost:8080/"
        },
        "id": "q_XL00sOZhnE",
        "outputId": "b50bd848-a122-4f7f-c0e2-c2e90a844a05"
      },
      "execution_count": 5,
      "outputs": [
        {
          "output_type": "stream",
          "name": "stdout",
          "text": [
            "Ejemplo de 3 chunks creados:\n",
            "- Max Planck introdujo en 1900 la idea de que la energía no se emite de manera continua, sino en cuantos discretos. Este fue el inicio de la teoría cuántica. Albert Einstein en 1905 explicó el efecto fotoeléctrico utilizando el concepto de cuantos de luz, lo que posteriormente llamó fotones. Niels Bohr en 1913 propuso su modelo atómico, donde los electrones orbitaban en niveles de energía cuantizados alrededor del núcleo. Werner Heisenberg enunció en 1927 el principio de incertidumbre, que indica \n",
            "\n",
            "- orbitaban en niveles de energía cuantizados alrededor del núcleo. Werner Heisenberg enunció en 1927 el principio de incertidumbre, que indica que no es posible conocer con precisión la posición y el momento de una partícula al mismo tiempo. Erwin Schrödinger desarrolló la ecuación de onda en 1926, fundamental para describir el comportamiento cuántico de las partículas. Richard Feynman contribuyó a la electrodinámica cuántica y popularizó el uso de diagramas que llevan su nombre. \n",
            "\n",
            "- la electrodinámica cuántica y popularizó el uso de diagramas que llevan su nombre. \n",
            "\n"
          ]
        }
      ]
    },
    {
      "cell_type": "code",
      "source": [
        "# ========= 4. CREAR EMBEDDINGS Y BASE VECTORIAL =========\n",
        "embedder = SentenceTransformer(\"all-MiniLM-L6-v2\")\n",
        "client = chromadb.Client()\n",
        "collection = client.get_or_create_collection(\"physics_chunks\")\n",
        "\n",
        "embeddings = embedder.encode(docs).tolist()\n",
        "for i, d in enumerate(docs):\n",
        "    collection.add(documents=[d], embeddings=[embeddings[i]], ids=[str(i)])\n",
        "\n"
      ],
      "metadata": {
        "colab": {
          "base_uri": "https://localhost:8080/"
        },
        "id": "RcIzv2tYZbtk",
        "outputId": "5bedf08d-0240-4136-d7ed-6e8aca83265a"
      },
      "execution_count": 6,
      "outputs": [
        {
          "output_type": "stream",
          "name": "stderr",
          "text": [
            "/usr/local/lib/python3.12/dist-packages/huggingface_hub/utils/_auth.py:94: UserWarning: \n",
            "The secret `HF_TOKEN` does not exist in your Colab secrets.\n",
            "To authenticate with the Hugging Face Hub, create a token in your settings tab (https://huggingface.co/settings/tokens), set it as secret in your Google Colab and restart your session.\n",
            "You will be able to reuse this secret in all of your notebooks.\n",
            "Please note that authentication is recommended but still optional to access public models or datasets.\n",
            "  warnings.warn(\n"
          ]
        }
      ]
    },
    {
      "cell_type": "code",
      "source": [
        "# ========= 5. CONSULTA Y RETRIEVAL =========\n",
        "# 👉 Aquí puedes cambiar la pregunta y experimentar ========================================\n",
        "# Ejemplos para probar:\n",
        "# query = \"¿Qué explica la teoría de la relatividad?\"\n",
        "# query = \"¿Cuál fue un hecho clave en la independencia de Colombia?\"\n",
        "query = \"¿Qué científico propuso un modelo atómico en 1913?\"\n",
        "q_embed = embedder.encode([query]).tolist()\n",
        "results = collection.query(query_embeddings=q_embed, n_results=3)\n",
        "retrieved_context = \" \".join(results['documents'][0])\n",
        "\n",
        "print(\"\\n🔹 Chunks relevantes recuperados:\")\n",
        "for doc in results['documents'][0]:\n",
        "    print(\"-\", doc)\n"
      ],
      "metadata": {
        "id": "6FwLXClZZdOa",
        "colab": {
          "base_uri": "https://localhost:8080/"
        },
        "outputId": "5063dd62-df7a-4b50-cbb6-739024161bd6"
      },
      "execution_count": 7,
      "outputs": [
        {
          "output_type": "stream",
          "name": "stdout",
          "text": [
            "\n",
            "🔹 Chunks relevantes recuperados:\n",
            "- Max Planck introdujo en 1900 la idea de que la energía no se emite de manera continua, sino en cuantos discretos. Este fue el inicio de la teoría cuántica. Albert Einstein en 1905 explicó el efecto fotoeléctrico utilizando el concepto de cuantos de luz, lo que posteriormente llamó fotones. Niels Bohr en 1913 propuso su modelo atómico, donde los electrones orbitaban en niveles de energía cuantizados alrededor del núcleo. Werner Heisenberg enunció en 1927 el principio de incertidumbre, que indica\n",
            "- orbitaban en niveles de energía cuantizados alrededor del núcleo. Werner Heisenberg enunció en 1927 el principio de incertidumbre, que indica que no es posible conocer con precisión la posición y el momento de una partícula al mismo tiempo. Erwin Schrödinger desarrolló la ecuación de onda en 1926, fundamental para describir el comportamiento cuántico de las partículas. Richard Feynman contribuyó a la electrodinámica cuántica y popularizó el uso de diagramas que llevan su nombre.\n",
            "- la electrodinámica cuántica y popularizó el uso de diagramas que llevan su nombre.\n"
          ]
        }
      ]
    },
    {
      "cell_type": "code",
      "source": [
        "\n",
        "# ========= 6. GEMINI PARA RESPONDER CON CONTEXTO =========\n",
        "model = genai.GenerativeModel(\"models/gemini-1.5-flash-latest\")\n",
        "\n",
        "\n",
        "prompt1= f\"Basándote en el siguiente contexto, responde la pregunta y añade una breve explicación adicional desde tu conocimiento si es relevante:.\\n\\nContexto:\\n{retrieved_context}\\n\\nPregunta: {query}\"\n",
        "\n",
        "response = model.generate_content(prompt1)\n",
        "\n",
        "print(\"\\n🔹 Respuesta generada por Gemini:\")\n",
        "\n",
        "contexto1 = retrieved_context\n",
        "respuesta1= response.text\n",
        "print(respuesta1)"
      ],
      "metadata": {
        "id": "JEhZG15cZfDU",
        "colab": {
          "base_uri": "https://localhost:8080/",
          "height": 106
        },
        "outputId": "dbeef907-3c03-44a5-b6fd-c3624c02e5cd"
      },
      "execution_count": 8,
      "outputs": [
        {
          "output_type": "stream",
          "name": "stdout",
          "text": [
            "\n",
            "🔹 Respuesta generada por Gemini:\n",
            "Niels Bohr propuso un modelo atómico en 1913.  Este modelo postulaba que los electrones orbitan el núcleo atómico en niveles de energía discretos y cuantizados, a diferencia de los modelos clásicos que permitían órbitas con cualquier energía.  Este fue un paso crucial en el desarrollo de la teoría cuántica, ya que explicaba, por ejemplo, el espectro de emisión del hidrógeno.  Es importante notar que el modelo de Bohr, aunque histórico y didácticamente útil,  es una simplificación y fue posteriormente refinado y reemplazado por modelos más complejos y precisos basados en la mecánica cuántica.\n",
            "\n"
          ]
        }
      ]
    },
    {
      "cell_type": "code",
      "source": [
        "model = genai.GenerativeModel(\"models/gemini-1.5-flash-latest\")\n",
        "\n",
        "\n",
        "prompt2= f\" responde la pregunta y añade una breve explicación adicional desde tu conocimiento si es relevante:\\n\\nPregunta: {query}\"\n",
        "\n",
        "response2 = model.generate_content(prompt2)\n",
        "\n",
        "print(\"\\n🔹 Respuesta generada por Gemini:\")\n",
        "\n",
        "respuesta2= response2.text\n",
        "print(respuesta2)"
      ],
      "metadata": {
        "colab": {
          "base_uri": "https://localhost:8080/",
          "height": 141
        },
        "id": "t0-TmMrTu-O_",
        "outputId": "b7ec343c-8723-4cd4-c256-c782d029e03c"
      },
      "execution_count": 9,
      "outputs": [
        {
          "output_type": "stream",
          "name": "stdout",
          "text": [
            "\n",
            "🔹 Respuesta generada por Gemini:\n",
            "Niels Bohr propuso un modelo atómico en 1913.\n",
            "\n",
            "**Explicación adicional:** El modelo atómico de Bohr mejoró significativamente el modelo anterior de Rutherford.  Mientras que el modelo de Rutherford describía el átomo con un núcleo denso positivo rodeado de electrones, no explicaba por qué los electrones no caían en el núcleo debido a la atracción electrostática.  Bohr introdujo la idea de que los electrones orbitan el núcleo en niveles de energía específicos o \"capas\", y que los electrones solo pueden saltar entre estas capas absorbiendo o emitiendo energía en forma de fotones.  Este modelo explicó con éxito el espectro de emisión del hidrógeno, pero tenía limitaciones y no podía explicar átomos con más de un electrón con la misma precisión.  A pesar de sus limitaciones, el modelo de Bohr fue un paso crucial en el desarrollo de la mecánica cuántica y nuestra comprensión de la estructura atómica.\n",
            "\n"
          ]
        }
      ]
    },
    {
      "cell_type": "code",
      "source": [
        "print(retrieved_context)"
      ],
      "metadata": {
        "colab": {
          "base_uri": "https://localhost:8080/"
        },
        "id": "b3SiE-q3_3RB",
        "outputId": "c0818557-10c8-48cb-fd96-bec932ec851e"
      },
      "execution_count": 10,
      "outputs": [
        {
          "output_type": "stream",
          "name": "stdout",
          "text": [
            "Max Planck introdujo en 1900 la idea de que la energía no se emite de manera continua, sino en cuantos discretos. Este fue el inicio de la teoría cuántica. Albert Einstein en 1905 explicó el efecto fotoeléctrico utilizando el concepto de cuantos de luz, lo que posteriormente llamó fotones. Niels Bohr en 1913 propuso su modelo atómico, donde los electrones orbitaban en niveles de energía cuantizados alrededor del núcleo. Werner Heisenberg enunció en 1927 el principio de incertidumbre, que indica orbitaban en niveles de energía cuantizados alrededor del núcleo. Werner Heisenberg enunció en 1927 el principio de incertidumbre, que indica que no es posible conocer con precisión la posición y el momento de una partícula al mismo tiempo. Erwin Schrödinger desarrolló la ecuación de onda en 1926, fundamental para describir el comportamiento cuántico de las partículas. Richard Feynman contribuyó a la electrodinámica cuántica y popularizó el uso de diagramas que llevan su nombre. la electrodinámica cuántica y popularizó el uso de diagramas que llevan su nombre.\n"
          ]
        }
      ]
    },
    {
      "cell_type": "markdown",
      "metadata": {
        "id": "iyQtSj8YhcW3"
      },
      "source": [
        "# 2. **GraphRAG con Gemini + Neo4j: Consultando Grafos de Conocimiento:**"
      ]
    },
    {
      "cell_type": "markdown",
      "metadata": {
        "id": "7tkzFK1bhYG7"
      },
      "source": [
        "En este ejemplo usamos Gemini para extraer triples semánticos del texto (por ejemplo: (Elon Musk, fundó, Tesla)).\n",
        "\n",
        "Luego esos triples se guardan en Neo4j, una base de datos orientada a grafos.\n",
        "Después, podemos hacer consultas usando Cypher, el lenguaje de Neo4j, y finalmente Gemini genera una respuesta en lenguaje natural usando la información consultada.\n",
        "\n",
        "Esto permite transformar un texto plano en un grafo de conocimiento consultable, lo que es muy útil para preguntas complejas que requieren relaciones entre entidades."
      ]
    },
    {
      "cell_type": "markdown",
      "metadata": {
        "id": "FiMLgjeuvQqs"
      },
      "source": [
        "## **Preparación del entorno:**"
      ]
    },
    {
      "cell_type": "markdown",
      "metadata": {
        "id": "46Y4MlqqwSv5"
      },
      "source": [
        "## **Snippets de Cypher para practicar**"
      ]
    },
    {
      "cell_type": "markdown",
      "metadata": {
        "id": "UpIzHKKVwl-Q"
      },
      "source": [
        "Los estudiantes pueden reemplazar el query y la pregunta con estos ejemplos (COPIAR Y PEGAR EN EL BLOQUE DE CODIGO DEL GRAPHRAG):\n",
        "\n",
        "### **Para el documento innovadores.txt disponible en google drive:** ¿Cuáles son las empresas fundadas por Elon Musk y por Steve Jobs, a qué se dedica cada una y por qué es importante lo que hacen?\n"
      ]
    },
    {
      "cell_type": "code",
      "execution_count": 11,
      "metadata": {
        "id": "EZ-LhlWxxJMv"
      },
      "outputs": [],
      "source": [
        "cypher_query = \"\"\"\n",
        "MATCH (p:Entidad)-[r:RELACION]->(c:Entidad)\n",
        "RETURN p.name AS persona, r.tipo AS relacion, c.name AS compania\n",
        "\"\"\""
      ]
    },
    {
      "cell_type": "markdown",
      "metadata": {
        "id": "Xx_BWVFnyQx2"
      },
      "source": [
        "### **Para el documento hisotria_internet.txt disponible en google drive:** ¿Cuál fue la importancia de Tim Berners-Lee en la historia de Internet?"
      ]
    },
    {
      "cell_type": "code",
      "execution_count": 12,
      "metadata": {
        "id": "yqHm3eEwyOeM"
      },
      "outputs": [],
      "source": [
        "cypher_query = \"\"\"\n",
        "MATCH (a:Entidad)-[r:RELACION]->(b:Entidad)\n",
        "WHERE a.name = \"Tim Berners-Lee\"\n",
        "RETURN a.name AS a, r.tipo AS relacion, b.name AS b\n",
        "\"\"\""
      ]
    },
    {
      "cell_type": "code",
      "execution_count": 13,
      "metadata": {
        "colab": {
          "base_uri": "https://localhost:8080/",
          "height": 1000
        },
        "id": "6KFM7pFpghrn",
        "outputId": "37f4ac53-8d04-4111-ab04-a9c8ac600ec1"
      },
      "outputs": [
        {
          "output_type": "stream",
          "name": "stdout",
          "text": [
            "Requirement already satisfied: neo4j in /usr/local/lib/python3.12/dist-packages (5.28.2)\n",
            "Requirement already satisfied: google-generativeai in /usr/local/lib/python3.12/dist-packages (0.8.5)\n",
            "Requirement already satisfied: pytz in /usr/local/lib/python3.12/dist-packages (from neo4j) (2025.2)\n",
            "Requirement already satisfied: google-ai-generativelanguage==0.6.15 in /usr/local/lib/python3.12/dist-packages (from google-generativeai) (0.6.15)\n",
            "Requirement already satisfied: google-api-core in /usr/local/lib/python3.12/dist-packages (from google-generativeai) (2.25.1)\n",
            "Requirement already satisfied: google-api-python-client in /usr/local/lib/python3.12/dist-packages (from google-generativeai) (2.182.0)\n",
            "Requirement already satisfied: google-auth>=2.15.0 in /usr/local/lib/python3.12/dist-packages (from google-generativeai) (2.38.0)\n",
            "Requirement already satisfied: protobuf in /usr/local/lib/python3.12/dist-packages (from google-generativeai) (5.29.5)\n",
            "Requirement already satisfied: pydantic in /usr/local/lib/python3.12/dist-packages (from google-generativeai) (2.11.9)\n",
            "Requirement already satisfied: tqdm in /usr/local/lib/python3.12/dist-packages (from google-generativeai) (4.67.1)\n",
            "Requirement already satisfied: typing-extensions in /usr/local/lib/python3.12/dist-packages (from google-generativeai) (4.15.0)\n",
            "Requirement already satisfied: proto-plus<2.0.0dev,>=1.22.3 in /usr/local/lib/python3.12/dist-packages (from google-ai-generativelanguage==0.6.15->google-generativeai) (1.26.1)\n",
            "Requirement already satisfied: googleapis-common-protos<2.0.0,>=1.56.2 in /usr/local/lib/python3.12/dist-packages (from google-api-core->google-generativeai) (1.70.0)\n",
            "Requirement already satisfied: requests<3.0.0,>=2.18.0 in /usr/local/lib/python3.12/dist-packages (from google-api-core->google-generativeai) (2.32.4)\n",
            "Requirement already satisfied: cachetools<6.0,>=2.0.0 in /usr/local/lib/python3.12/dist-packages (from google-auth>=2.15.0->google-generativeai) (5.5.2)\n",
            "Requirement already satisfied: pyasn1-modules>=0.2.1 in /usr/local/lib/python3.12/dist-packages (from google-auth>=2.15.0->google-generativeai) (0.4.2)\n",
            "Requirement already satisfied: rsa<5,>=3.1.4 in /usr/local/lib/python3.12/dist-packages (from google-auth>=2.15.0->google-generativeai) (4.9.1)\n",
            "Requirement already satisfied: httplib2<1.0.0,>=0.19.0 in /usr/local/lib/python3.12/dist-packages (from google-api-python-client->google-generativeai) (0.31.0)\n",
            "Requirement already satisfied: google-auth-httplib2<1.0.0,>=0.2.0 in /usr/local/lib/python3.12/dist-packages (from google-api-python-client->google-generativeai) (0.2.0)\n",
            "Requirement already satisfied: uritemplate<5,>=3.0.1 in /usr/local/lib/python3.12/dist-packages (from google-api-python-client->google-generativeai) (4.2.0)\n",
            "Requirement already satisfied: annotated-types>=0.6.0 in /usr/local/lib/python3.12/dist-packages (from pydantic->google-generativeai) (0.7.0)\n",
            "Requirement already satisfied: pydantic-core==2.33.2 in /usr/local/lib/python3.12/dist-packages (from pydantic->google-generativeai) (2.33.2)\n",
            "Requirement already satisfied: typing-inspection>=0.4.0 in /usr/local/lib/python3.12/dist-packages (from pydantic->google-generativeai) (0.4.1)\n",
            "Requirement already satisfied: grpcio<2.0.0,>=1.33.2 in /usr/local/lib/python3.12/dist-packages (from google-api-core[grpc]!=2.0.*,!=2.1.*,!=2.10.*,!=2.2.*,!=2.3.*,!=2.4.*,!=2.5.*,!=2.6.*,!=2.7.*,!=2.8.*,!=2.9.*,<3.0.0dev,>=1.34.1->google-ai-generativelanguage==0.6.15->google-generativeai) (1.75.0)\n",
            "Requirement already satisfied: grpcio-status<2.0.0,>=1.33.2 in /usr/local/lib/python3.12/dist-packages (from google-api-core[grpc]!=2.0.*,!=2.1.*,!=2.10.*,!=2.2.*,!=2.3.*,!=2.4.*,!=2.5.*,!=2.6.*,!=2.7.*,!=2.8.*,!=2.9.*,<3.0.0dev,>=1.34.1->google-ai-generativelanguage==0.6.15->google-generativeai) (1.71.2)\n",
            "Requirement already satisfied: pyparsing<4,>=3.0.4 in /usr/local/lib/python3.12/dist-packages (from httplib2<1.0.0,>=0.19.0->google-api-python-client->google-generativeai) (3.2.4)\n",
            "Requirement already satisfied: pyasn1<0.7.0,>=0.6.1 in /usr/local/lib/python3.12/dist-packages (from pyasn1-modules>=0.2.1->google-auth>=2.15.0->google-generativeai) (0.6.1)\n",
            "Requirement already satisfied: charset_normalizer<4,>=2 in /usr/local/lib/python3.12/dist-packages (from requests<3.0.0,>=2.18.0->google-api-core->google-generativeai) (3.4.3)\n",
            "Requirement already satisfied: idna<4,>=2.5 in /usr/local/lib/python3.12/dist-packages (from requests<3.0.0,>=2.18.0->google-api-core->google-generativeai) (3.10)\n",
            "Requirement already satisfied: urllib3<3,>=1.21.1 in /usr/local/lib/python3.12/dist-packages (from requests<3.0.0,>=2.18.0->google-api-core->google-generativeai) (2.5.0)\n",
            "Requirement already satisfied: certifi>=2017.4.17 in /usr/local/lib/python3.12/dist-packages (from requests<3.0.0,>=2.18.0->google-api-core->google-generativeai) (2025.8.3)\n",
            "Sube un archivo de texto con información (ej: innovadores.txt)\n"
          ]
        },
        {
          "output_type": "display_data",
          "data": {
            "text/plain": [
              "<IPython.core.display.HTML object>"
            ],
            "text/html": [
              "\n",
              "     <input type=\"file\" id=\"files-8c19794c-0135-412d-8818-5dd6284116bb\" name=\"files[]\" multiple disabled\n",
              "        style=\"border:none\" />\n",
              "     <output id=\"result-8c19794c-0135-412d-8818-5dd6284116bb\">\n",
              "      Upload widget is only available when the cell has been executed in the\n",
              "      current browser session. Please rerun this cell to enable.\n",
              "      </output>\n",
              "      <script>// Copyright 2017 Google LLC\n",
              "//\n",
              "// Licensed under the Apache License, Version 2.0 (the \"License\");\n",
              "// you may not use this file except in compliance with the License.\n",
              "// You may obtain a copy of the License at\n",
              "//\n",
              "//      http://www.apache.org/licenses/LICENSE-2.0\n",
              "//\n",
              "// Unless required by applicable law or agreed to in writing, software\n",
              "// distributed under the License is distributed on an \"AS IS\" BASIS,\n",
              "// WITHOUT WARRANTIES OR CONDITIONS OF ANY KIND, either express or implied.\n",
              "// See the License for the specific language governing permissions and\n",
              "// limitations under the License.\n",
              "\n",
              "/**\n",
              " * @fileoverview Helpers for google.colab Python module.\n",
              " */\n",
              "(function(scope) {\n",
              "function span(text, styleAttributes = {}) {\n",
              "  const element = document.createElement('span');\n",
              "  element.textContent = text;\n",
              "  for (const key of Object.keys(styleAttributes)) {\n",
              "    element.style[key] = styleAttributes[key];\n",
              "  }\n",
              "  return element;\n",
              "}\n",
              "\n",
              "// Max number of bytes which will be uploaded at a time.\n",
              "const MAX_PAYLOAD_SIZE = 100 * 1024;\n",
              "\n",
              "function _uploadFiles(inputId, outputId) {\n",
              "  const steps = uploadFilesStep(inputId, outputId);\n",
              "  const outputElement = document.getElementById(outputId);\n",
              "  // Cache steps on the outputElement to make it available for the next call\n",
              "  // to uploadFilesContinue from Python.\n",
              "  outputElement.steps = steps;\n",
              "\n",
              "  return _uploadFilesContinue(outputId);\n",
              "}\n",
              "\n",
              "// This is roughly an async generator (not supported in the browser yet),\n",
              "// where there are multiple asynchronous steps and the Python side is going\n",
              "// to poll for completion of each step.\n",
              "// This uses a Promise to block the python side on completion of each step,\n",
              "// then passes the result of the previous step as the input to the next step.\n",
              "function _uploadFilesContinue(outputId) {\n",
              "  const outputElement = document.getElementById(outputId);\n",
              "  const steps = outputElement.steps;\n",
              "\n",
              "  const next = steps.next(outputElement.lastPromiseValue);\n",
              "  return Promise.resolve(next.value.promise).then((value) => {\n",
              "    // Cache the last promise value to make it available to the next\n",
              "    // step of the generator.\n",
              "    outputElement.lastPromiseValue = value;\n",
              "    return next.value.response;\n",
              "  });\n",
              "}\n",
              "\n",
              "/**\n",
              " * Generator function which is called between each async step of the upload\n",
              " * process.\n",
              " * @param {string} inputId Element ID of the input file picker element.\n",
              " * @param {string} outputId Element ID of the output display.\n",
              " * @return {!Iterable<!Object>} Iterable of next steps.\n",
              " */\n",
              "function* uploadFilesStep(inputId, outputId) {\n",
              "  const inputElement = document.getElementById(inputId);\n",
              "  inputElement.disabled = false;\n",
              "\n",
              "  const outputElement = document.getElementById(outputId);\n",
              "  outputElement.innerHTML = '';\n",
              "\n",
              "  const pickedPromise = new Promise((resolve) => {\n",
              "    inputElement.addEventListener('change', (e) => {\n",
              "      resolve(e.target.files);\n",
              "    });\n",
              "  });\n",
              "\n",
              "  const cancel = document.createElement('button');\n",
              "  inputElement.parentElement.appendChild(cancel);\n",
              "  cancel.textContent = 'Cancel upload';\n",
              "  const cancelPromise = new Promise((resolve) => {\n",
              "    cancel.onclick = () => {\n",
              "      resolve(null);\n",
              "    };\n",
              "  });\n",
              "\n",
              "  // Wait for the user to pick the files.\n",
              "  const files = yield {\n",
              "    promise: Promise.race([pickedPromise, cancelPromise]),\n",
              "    response: {\n",
              "      action: 'starting',\n",
              "    }\n",
              "  };\n",
              "\n",
              "  cancel.remove();\n",
              "\n",
              "  // Disable the input element since further picks are not allowed.\n",
              "  inputElement.disabled = true;\n",
              "\n",
              "  if (!files) {\n",
              "    return {\n",
              "      response: {\n",
              "        action: 'complete',\n",
              "      }\n",
              "    };\n",
              "  }\n",
              "\n",
              "  for (const file of files) {\n",
              "    const li = document.createElement('li');\n",
              "    li.append(span(file.name, {fontWeight: 'bold'}));\n",
              "    li.append(span(\n",
              "        `(${file.type || 'n/a'}) - ${file.size} bytes, ` +\n",
              "        `last modified: ${\n",
              "            file.lastModifiedDate ? file.lastModifiedDate.toLocaleDateString() :\n",
              "                                    'n/a'} - `));\n",
              "    const percent = span('0% done');\n",
              "    li.appendChild(percent);\n",
              "\n",
              "    outputElement.appendChild(li);\n",
              "\n",
              "    const fileDataPromise = new Promise((resolve) => {\n",
              "      const reader = new FileReader();\n",
              "      reader.onload = (e) => {\n",
              "        resolve(e.target.result);\n",
              "      };\n",
              "      reader.readAsArrayBuffer(file);\n",
              "    });\n",
              "    // Wait for the data to be ready.\n",
              "    let fileData = yield {\n",
              "      promise: fileDataPromise,\n",
              "      response: {\n",
              "        action: 'continue',\n",
              "      }\n",
              "    };\n",
              "\n",
              "    // Use a chunked sending to avoid message size limits. See b/62115660.\n",
              "    let position = 0;\n",
              "    do {\n",
              "      const length = Math.min(fileData.byteLength - position, MAX_PAYLOAD_SIZE);\n",
              "      const chunk = new Uint8Array(fileData, position, length);\n",
              "      position += length;\n",
              "\n",
              "      const base64 = btoa(String.fromCharCode.apply(null, chunk));\n",
              "      yield {\n",
              "        response: {\n",
              "          action: 'append',\n",
              "          file: file.name,\n",
              "          data: base64,\n",
              "        },\n",
              "      };\n",
              "\n",
              "      let percentDone = fileData.byteLength === 0 ?\n",
              "          100 :\n",
              "          Math.round((position / fileData.byteLength) * 100);\n",
              "      percent.textContent = `${percentDone}% done`;\n",
              "\n",
              "    } while (position < fileData.byteLength);\n",
              "  }\n",
              "\n",
              "  // All done.\n",
              "  yield {\n",
              "    response: {\n",
              "      action: 'complete',\n",
              "    }\n",
              "  };\n",
              "}\n",
              "\n",
              "scope.google = scope.google || {};\n",
              "scope.google.colab = scope.google.colab || {};\n",
              "scope.google.colab._files = {\n",
              "  _uploadFiles,\n",
              "  _uploadFilesContinue,\n",
              "};\n",
              "})(self);\n",
              "</script> "
            ]
          },
          "metadata": {}
        },
        {
          "output_type": "stream",
          "name": "stdout",
          "text": [
            "Saving innovadores.txt to innovadores (4).txt\n",
            "🔹 Triples extraídos por Gemini:\n",
            "Aquí tienes las relaciones extraídas del texto en formato de triples (SUJETO, RELACIÓN, OBJETO):\n",
            "\n",
            "* (Elon Musk, fundó, Tesla)\n",
            "* (Tesla, tipo_de_compañía, fabricante de automóviles eléctricos y soluciones de energía renovable)\n",
            "* (Elon Musk, fundó, SpaceX)\n",
            "* (SpaceX, tipo_de_empresa, empresa de exploración espacial)\n",
            "* (SpaceX, desarrolla, cohetes y satélites)\n",
            "* (Elon Musk, participó_en_la_creación, PayPal)\n",
            "* (PayPal, tipo_de_sistema, sistema de pagos en línea)\n",
            "* (PayPal, revolucionó, transacciones digitales)\n",
            "* (Steve Jobs, fue_cofundador, Apple)\n",
            "* (Apple, reconocida_por, productos tecnológicos innovadores)\n",
            "* (Apple, desarrolló, iPhone)\n",
            "* (Apple, desarrolló, iPad)\n",
            "* (Apple, desarrolló, MacBook)\n",
            "* (Apple, clave_en, desarrollo de la industria de los dispositivos inteligentes)\n",
            "* (Jeff Bezos, fundó, Amazon)\n",
            "* (Amazon, inicio_como, librería en línea)\n",
            "* (Amazon, evolucionó_a, plataforma de comercio electrónico y servicios en la nube)\n",
            "* (Amazon, ofrece_servicios, Amazon Web Services (AWS))\n",
            "* (Mark Zuckerberg, creó, Facebook)\n",
            "* (Facebook, transformó, comunicación digital, publicidad e interacción en línea)\n",
            "* (Larry Page, fundó, Google)\n",
            "* (Sergey Brin, fundó, Google)\n",
            "* (Google, tipo_de_motor, motor de búsqueda)\n",
            "* (Google, cambió, acceso a la información global)\n",
            "* (Google, desarrolló, Android)\n",
            "* (Android, tipo_de_sistema, sistema operativo)\n",
            "* (Android, uso, teléfonos inteligentes)\n",
            "\n",
            "\n",
            "He añadido algunas relaciones implícitas para enriquecer la representación del conocimiento.  Se podrían añadir más triples dependiendo del nivel de detalle deseado.  Por ejemplo, se podrían descomponer \"productos tecnológicos innovadores\" en triples individuales para cada producto.\n",
            "\n"
          ]
        },
        {
          "output_type": "stream",
          "name": "stderr",
          "text": [
            "/tmp/ipython-input-746353602.py:59: DeprecationWarning: write_transaction has been renamed to execute_write\n",
            "  session.write_transaction(insert_triple, s, r, o)\n"
          ]
        },
        {
          "output_type": "stream",
          "name": "stdout",
          "text": [
            "✅ Se insertaron 27 triples en Neo4j\n",
            "\n",
            "🔹 Resultados de la consulta Cypher:\n",
            "Aquí tienes las relaciones extraídas del texto en formato de triples (SUJETO RELACIÓN OBJETO):\n",
            "* (Elon Musk fundó Tesla\n",
            "* (Tesla tipo_de_compañia fabricante de automóviles eléctricos y soluciones de energía renovable\n",
            "* (Tesla tipo_de_compañía fabricante de automóviles eléctricos y soluciones de energía renovable\n",
            "* (Elon Musk fundó SpaceX\n",
            "* (SpaceX tipo_de_empresa empresa de exploración espacial\n",
            "* (SpaceX desarrolla cohetes y satélites\n",
            "* (Elon Musk participó_en_la_creación PayPal\n",
            "* (Elon Musk participó_en_la_creación_de PayPal\n",
            "* (PayPal tipo_de_sistema sistema de pagos en línea\n",
            "* (PayPal revolucionó transacciones digitales\n",
            "* (Steve Jobs cofundador_de Apple\n",
            "* (Steve Jobs fue_cofundador Apple\n",
            "* (Apple tipo_de_empresa empresa reconocida por sus productos tecnológicos innovadores\n",
            "* (Apple clave_en_el_desarrollo industria de los dispositivos inteligentes\n",
            "* (Apple clave_en_el_desarrollo_de industria de los dispositivos inteligentes\n",
            "* (Jeff Bezos fundó Amazon\n",
            "* (Amazon inicio_como librería en línea\n",
            "* (Amazon evolucionó_a plataforma de comercio electrónico y servicios en la nube\n",
            "* (Amazon ofrece Amazon Web Services (AWS\n",
            "* (Amazon ofrece_servicios Amazon Web Services (AWS\n",
            "* (Mark Zuckerberg creó Facebook\n",
            "* (Facebook tipo_de_red red social\n",
            "* (Larry Page fundó Google\n",
            "* (Sergey Brin fundó Google\n",
            "* (Google tipo_de_motor motor de búsqueda\n",
            "* (Google cambió acceso a la información global\n",
            "* (Google desarrolló Android\n",
            "* (Android tipo_de_sistema sistema operativo\n",
            "* (Android más_utilizado_en teléfonos inteligentes\n",
            "* (Android uso teléfonos inteligentes\n",
            "* (Android uso_en teléfonos inteligentes\n",
            "* (Tesla tipo_de_compañia fabricante de automóviles eléctricos\n",
            "* (Tesla se_dedica_a soluciones de energía renovable\n",
            "* (SpaceX desarrolla cohetes\n",
            "* (SpaceX desarrolla satélites\n",
            "* (Apple reconocida_por productos tecnológicos innovadores\n",
            "* (Apple desarrolló iPhone\n",
            "* (Apple desarrolló iPad\n",
            "* (Apple desarrolló MacBook\n",
            "* (Amazon evolucionó_hacia plataforma de comercio electrónico\n",
            "* (Amazon ofrece servicios en la nube\n",
            "* (Facebook transformó comunicación digital\n",
            "* (Facebook transformó publicidad\n",
            "* (Facebook transformó interacción en línea\n",
            "* (Apple clave_en desarrollo de la industria de los dispositivos inteligentes\n",
            "\n",
            "🔹 Respuesta generada por Gemini:\n",
            "Elon Musk fundó Tesla y SpaceX.\n",
            "\n",
            "* **Tesla:** Es un fabricante de automóviles eléctricos y soluciones de energía renovable.  Su importancia radica en su contribución a la lucha contra el cambio climático a través de la promoción de vehículos eléctricos y energías renovables,  impactando significativamente el sector automotriz y la industria energética.\n",
            "\n",
            "* **SpaceX:** Es una empresa de exploración espacial que desarrolla cohetes y satélites.  Su importancia reside en su avance en la tecnología espacial,  reduciendo los costos de acceso al espacio y abriendo nuevas posibilidades para la exploración espacial comercial y científica.\n",
            "\n",
            "\n",
            "Steve Jobs fue cofundador de Apple.\n",
            "\n",
            "* **Apple:** Es una empresa reconocida por sus productos tecnológicos innovadores, clave en el desarrollo de la industria de los dispositivos inteligentes. Su importancia se debe a su influencia revolucionaria en la tecnología personal,  creando productos icónicos como el iPhone, iPad y MacBook que han transformado la forma en que interactuamos con la tecnología y han establecido estándares en diseño y usabilidad.  Su impacto en la industria tecnológica es innegable.\n",
            "\n"
          ]
        }
      ],
      "source": [
        "# ================== INSTALACIÓN ==================\n",
        "!pip install neo4j google-generativeai\n",
        "\n",
        "import os\n",
        "from neo4j import GraphDatabase\n",
        "import google.generativeai as genai\n",
        "from google.colab import files\n",
        "\n",
        "\n",
        "\n",
        "# 👉 Configura Neo4j con tus propios datos (SOLO si falla la configuración por defecto del Colab)\n",
        "NEO4J_URI = \"neo4j+s://0af925b8.databases.neo4j.io\"\n",
        "NEO4J_USER = \"neo4j\"\n",
        "NEO4J_PASSWORD = \"\"\n",
        "\n",
        "driver = GraphDatabase.driver(NEO4J_URI, auth=(NEO4J_USER, NEO4J_PASSWORD))\n",
        "\n",
        "# ================== SUBIR DOCUMENTO ==================\n",
        "print(\"Sube un archivo de texto con información (ej: innovadores.txt)\")\n",
        "uploaded = files.upload()\n",
        "\n",
        "file_name = list(uploaded.keys())[0]\n",
        "with open(file_name, \"r\", encoding=\"utf-8\") as f:\n",
        "    text = f.read()\n",
        "\n",
        "# ================== EXTRAER TRIPLES CON GEMINI ==================\n",
        "model = genai.GenerativeModel(\"models/gemini-1.5-flash-latest\")\n",
        "\n",
        "prompt = f\"\"\"\n",
        "Extrae relaciones del siguiente texto en formato de triples:\n",
        "(SUJETO, RELACIÓN, OBJETO).\n",
        "Texto:\n",
        "{text}\n",
        "\"\"\"\n",
        "\n",
        "response = model.generate_content(prompt)\n",
        "print(\"🔹 Triples extraídos por Gemini:\")\n",
        "print(response.text)\n",
        "\n",
        "# ================== GUARDAR TRIPLES EN NEO4J ==================\n",
        "def insert_triple(tx, s, r, o):\n",
        "    query = \"\"\"\n",
        "    MERGE (a:Entidad {name: $s})\n",
        "    MERGE (b:Entidad {name: $o})\n",
        "    MERGE (a)-[rel:RELACION {tipo: $r}]->(b)\n",
        "    \"\"\"\n",
        "    tx.run(query, s=s, r=r, o=o)\n",
        "\n",
        "triples = []\n",
        "for line in response.text.split(\"\\n\"):\n",
        "    if \"(\" in line and \")\" in line:\n",
        "        line = line.strip(\"()\")\n",
        "        parts = [p.strip() for p in line.split(\",\")]\n",
        "        if len(parts) == 3:\n",
        "            triples.append(parts)\n",
        "\n",
        "with driver.session() as session:\n",
        "    for s, r, o in triples:\n",
        "        session.write_transaction(insert_triple, s, r, o)\n",
        "\n",
        "print(f\"✅ Se insertaron {len(triples)} triples en Neo4j\")\n",
        "\n",
        "# ================== CONSULTA AL GRAFO ==================\n",
        "def query_graph(query):\n",
        "    with driver.session() as session:\n",
        "        result = session.run(query)\n",
        "        return [dict(r) for r in result]\n",
        "\n",
        "# AQUI PUEDEN CAMBIAR LAS QUERY POR LOS EJEMPLOS DE ARRIBA ============================== ⏰⏰⏰ =============================\n",
        "cypher_query = \"\"\"\n",
        "MATCH (p:Entidad)-[r:RELACION]->(c:Entidad)\n",
        "RETURN p.name AS persona, r.tipo AS relacion, c.name AS compania\n",
        "\"\"\"\n",
        "\n",
        "results = query_graph(cypher_query)\n",
        "\n",
        "print(\"\\n🔹 Resultados de la consulta Cypher:\")\n",
        "for r in results:\n",
        "    print(f\"{r['persona']} {r['relacion']} {r['compania']}\")\n",
        "\n",
        "# ================== GEMINI PARA RESPUESTA FINAL ==================\n",
        "context = \"\\n\".join([f\"{r['persona']} {r['relacion']} {r['compania']}\" for r in results])\n",
        "\n",
        "# AQUI PUEDEN CAMBIAR LAS PREGUNTAS POR LOS EJEMPLOS DE ARRIBA ============================== ⏰⏰⏰ =============================\n",
        "\n",
        "final_prompt1 = f\"\"\"\n",
        "Basándote en el siguiente contexto de un grafo de conocimiento, responde la pregunta y proporciona contexto:\n",
        "\n",
        "Contexto:\n",
        "{context}\n",
        "\n",
        "Pregunta:  ¿Cuáles son las empresas fundadas por Elon Musk y por Steve Jobs, a qué se dedica cada una y por qué es importante lo que hacen?\n",
        "\"\"\"\n",
        "\n",
        "response_final = model.generate_content(final_prompt1)\n",
        "print(\"\\n🔹 Respuesta generada por Gemini:\")\n",
        "\n",
        "respuesta3= response_final.text\n",
        "print(respuesta3)\n"
      ]
    },
    {
      "cell_type": "code",
      "source": [
        "final_prompt2 = f\"\"\"\n",
        "responde la pregunta y proporciona contexto:\n",
        "\n",
        "Pregunta:  ¿Cuáles son las empresas fundadas por Elon Musk y por Steve Jobs, a qué se dedica cada una y por qué es importante lo que hacen?\n",
        "\"\"\"\n",
        "\n",
        "response_final = model.generate_content(final_prompt2)\n",
        "print(\"\\n🔹 Respuesta generada por Gemini:\")\n",
        "\n",
        "respuesta4= response_final.text\n",
        "print(respuesta4)\n"
      ],
      "metadata": {
        "colab": {
          "base_uri": "https://localhost:8080/",
          "height": 523
        },
        "id": "TxUG14yI0QhI",
        "outputId": "b98ccb35-0ed7-4e01-a6fc-0fa247982bf1"
      },
      "execution_count": 14,
      "outputs": [
        {
          "output_type": "stream",
          "name": "stdout",
          "text": [
            "\n",
            "🔹 Respuesta generada por Gemini:\n",
            "Tanto Elon Musk como Steve Jobs son figuras icónicas en el mundo de la tecnología, pero sus empresas y sus impactos difieren significativamente.\n",
            "\n",
            "**Empresas fundadas por Elon Musk (y su papel principal en ellas):**\n",
            "\n",
            "* **SpaceX (Space Exploration Technologies Corp.):**  Es una empresa aeroespacial dedicada al diseño, fabricación y lanzamiento de cohetes y naves espaciales. Su objetivo principal es reducir el costo del transporte espacial y permitir la colonización de Marte.  Es importante porque está impulsando la innovación en la industria espacial, abriendo el camino para misiones espaciales más asequibles y ambiciosas, y potencialmente permitiendo a la humanidad convertirse en una especie multiplanetaria.\n",
            "\n",
            "* **Tesla, Inc.:** Es una empresa de fabricación de vehículos eléctricos, baterías y sistemas de energía solar. Su objetivo es acelerar la transición hacia un transporte sostenible y una energía limpia. Su importancia radica en su impulso hacia la electrificación del transporte, la reducción de emisiones de carbono y el desarrollo de tecnologías de almacenamiento de energía, cruciales para combatir el cambio climático.\n",
            "\n",
            "* **The Boring Company:**  Se dedica al desarrollo de túneles de alta velocidad para el transporte subterráneo, con el objetivo de aliviar el tráfico en las ciudades.  Su importancia (si tiene éxito a gran escala) sería revolucionar el transporte urbano, reduciendo la congestión y los tiempos de viaje.  Actualmente, está en una fase inicial de desarrollo, con proyectos piloto en varias ciudades.\n",
            "\n",
            "* **Neuralink:**  Es una empresa de neurotecnología que se centra en el desarrollo de interfaces cerebro-computadora implantables.  El objetivo es conectar el cerebro humano con las computadoras, con potenciales aplicaciones en el tratamiento de enfermedades neurológicas y la mejora de las capacidades cognitivas humanas. Su importancia reside en la posibilidad de revolucionar el tratamiento de enfermedades y la interacción humano-máquina, aunque todavía está en una fase muy temprana de desarrollo, y sus implicaciones éticas son objeto de debate.\n",
            "\n",
            "* **X Corp (anteriormente Twitter):**  Aunque Musk no la fundó originalmente, su adquisición y posterior reestructuración de Twitter lo convierten en una pieza clave en su historia y dirección actual. X Corp se enfoca en las redes sociales y la comunicación, y su importancia radica en su influencia global en la difusión de información y la formación de la opinión pública.\n",
            "\n",
            "\n",
            "**Empresas fundadas por Steve Jobs (y su papel principal en ellas):**\n",
            "\n",
            "* **Apple Inc.:** Aunque no fue el fundador original, Steve Jobs jugó un papel fundamental en la creación de la Apple moderna y en su éxito. Apple diseña y fabrica una amplia gama de productos electrónicos de consumo, incluyendo computadoras, smartphones (iPhone), tabletas (iPad), wearables (Apple Watch), software y servicios digitales. La importancia de Apple radica en su influencia masiva en la tecnología de consumo, su innovación en diseño y experiencia de usuario, y su ecosistema integrado de hardware y software.  Ha moldeado la forma en que interactuamos con la tecnología a nivel global.\n",
            "\n",
            "* **NeXT:** Aunque menos conocida que Apple, NeXT fue una compañía de computadoras que Jobs fundó después de ser despedido de Apple. Si bien NeXT no tuvo un éxito masivo como Apple, su sistema operativo fue posteriormente adquirido por Apple y formó la base de macOS.  Su importancia es histórica, ya que demuestra la visión de Jobs y cómo su trabajo sentó las bases para el futuro éxito de Apple.\n",
            "\n",
            "* **Pixar Animation Studios:** Jobs fue un inversor clave y CEO de Pixar, un estudio de animación por computadora que revolucionó la industria cinematográfica con películas como Toy Story. La importancia de Pixar radica en su innovación en la animación por computadora y su creación de películas taquilleras y culturalmente influyentes.\n",
            "\n",
            "\n",
            "En resumen, tanto Musk como Jobs han dejado una huella indeleble en la tecnología, pero en áreas distintas. Jobs se enfocó principalmente en la experiencia del usuario y en la creación de productos de consumo icónicos, mientras que Musk se enfoca en tecnologías disruptivas con el objetivo de resolver problemas a gran escala, desde el transporte espacial hasta la energía limpia y la inteligencia artificial.  Ambos comparten un enfoque innovador y visionario, pero sus legacies difieren en sus ámbitos de aplicación.\n",
            "\n"
          ]
        }
      ]
    },
    {
      "cell_type": "code",
      "source": [
        "print(context)"
      ],
      "metadata": {
        "colab": {
          "base_uri": "https://localhost:8080/"
        },
        "id": "e3cXdvy_AuMw",
        "outputId": "f0270f03-299a-4ef2-c3a0-ddee79773faf"
      },
      "execution_count": 15,
      "outputs": [
        {
          "output_type": "stream",
          "name": "stdout",
          "text": [
            "Aquí tienes las relaciones extraídas del texto en formato de triples (SUJETO RELACIÓN OBJETO):\n",
            "* (Elon Musk fundó Tesla\n",
            "* (Tesla tipo_de_compañia fabricante de automóviles eléctricos y soluciones de energía renovable\n",
            "* (Tesla tipo_de_compañía fabricante de automóviles eléctricos y soluciones de energía renovable\n",
            "* (Elon Musk fundó SpaceX\n",
            "* (SpaceX tipo_de_empresa empresa de exploración espacial\n",
            "* (SpaceX desarrolla cohetes y satélites\n",
            "* (Elon Musk participó_en_la_creación PayPal\n",
            "* (Elon Musk participó_en_la_creación_de PayPal\n",
            "* (PayPal tipo_de_sistema sistema de pagos en línea\n",
            "* (PayPal revolucionó transacciones digitales\n",
            "* (Steve Jobs cofundador_de Apple\n",
            "* (Steve Jobs fue_cofundador Apple\n",
            "* (Apple tipo_de_empresa empresa reconocida por sus productos tecnológicos innovadores\n",
            "* (Apple clave_en_el_desarrollo industria de los dispositivos inteligentes\n",
            "* (Apple clave_en_el_desarrollo_de industria de los dispositivos inteligentes\n",
            "* (Jeff Bezos fundó Amazon\n",
            "* (Amazon inicio_como librería en línea\n",
            "* (Amazon evolucionó_a plataforma de comercio electrónico y servicios en la nube\n",
            "* (Amazon ofrece Amazon Web Services (AWS\n",
            "* (Amazon ofrece_servicios Amazon Web Services (AWS\n",
            "* (Mark Zuckerberg creó Facebook\n",
            "* (Facebook tipo_de_red red social\n",
            "* (Larry Page fundó Google\n",
            "* (Sergey Brin fundó Google\n",
            "* (Google tipo_de_motor motor de búsqueda\n",
            "* (Google cambió acceso a la información global\n",
            "* (Google desarrolló Android\n",
            "* (Android tipo_de_sistema sistema operativo\n",
            "* (Android más_utilizado_en teléfonos inteligentes\n",
            "* (Android uso teléfonos inteligentes\n",
            "* (Android uso_en teléfonos inteligentes\n",
            "* (Tesla tipo_de_compañia fabricante de automóviles eléctricos\n",
            "* (Tesla se_dedica_a soluciones de energía renovable\n",
            "* (SpaceX desarrolla cohetes\n",
            "* (SpaceX desarrolla satélites\n",
            "* (Apple reconocida_por productos tecnológicos innovadores\n",
            "* (Apple desarrolló iPhone\n",
            "* (Apple desarrolló iPad\n",
            "* (Apple desarrolló MacBook\n",
            "* (Amazon evolucionó_hacia plataforma de comercio electrónico\n",
            "* (Amazon ofrece servicios en la nube\n",
            "* (Facebook transformó comunicación digital\n",
            "* (Facebook transformó publicidad\n",
            "* (Facebook transformó interacción en línea\n",
            "* (Apple clave_en desarrollo de la industria de los dispositivos inteligentes\n"
          ]
        }
      ]
    },
    {
      "cell_type": "markdown",
      "metadata": {
        "id": "Df4UpK7chNL3"
      },
      "source": [
        "# 3. **FusionRAG (BM25 + Embeddings)**"
      ]
    },
    {
      "cell_type": "markdown",
      "metadata": {
        "id": "q9VZtHlqhMXn"
      },
      "source": [
        "En este ejemplo se combina lo mejor de dos enfoques de recuperación de información:\n",
        "\n",
        "- BM25 (keyword-based): Recupera pasajes basándose en la coincidencia de palabras clave.\n",
        "\n",
        "- Vector Search (embeddings con ChromaDB): Recupera fragmentos usando similitud semántica.\n",
        "\n",
        "Ambos resultados se fusionan para obtener un contexto más robusto y completo, que luego se pasa al modelo Gemini para generar una respuesta.\n",
        "\n",
        "👉 Deben subir un archivo de texto (ej: cuantica.txt, historia_colombia.txt, innovadores.txt o historia_internet.txt) y luego probar con diferentes preguntas modificando el campo query."
      ]
    },
    {
      "cell_type": "markdown",
      "metadata": {
        "id": "vF1FWJa_0GIg"
      },
      "source": [
        "## **Preparación del entorno:**"
      ]
    },
    {
      "cell_type": "code",
      "source": [
        "!pip install rank_bm25 chromadb sentence-transformers google-generativeai"
      ],
      "metadata": {
        "colab": {
          "base_uri": "https://localhost:8080/"
        },
        "id": "U-kDybHz9D2p",
        "outputId": "c83ba5d2-b39e-48bb-c66a-8418a5076a4c"
      },
      "execution_count": 16,
      "outputs": [
        {
          "output_type": "stream",
          "name": "stdout",
          "text": [
            "Requirement already satisfied: rank_bm25 in /usr/local/lib/python3.12/dist-packages (0.2.2)\n",
            "Requirement already satisfied: chromadb in /usr/local/lib/python3.12/dist-packages (1.1.0)\n",
            "Requirement already satisfied: sentence-transformers in /usr/local/lib/python3.12/dist-packages (5.1.0)\n",
            "Requirement already satisfied: google-generativeai in /usr/local/lib/python3.12/dist-packages (0.8.5)\n",
            "Requirement already satisfied: numpy in /usr/local/lib/python3.12/dist-packages (from rank_bm25) (2.0.2)\n",
            "Requirement already satisfied: build>=1.0.3 in /usr/local/lib/python3.12/dist-packages (from chromadb) (1.3.0)\n",
            "Requirement already satisfied: pydantic>=1.9 in /usr/local/lib/python3.12/dist-packages (from chromadb) (2.11.9)\n",
            "Requirement already satisfied: pybase64>=1.4.1 in /usr/local/lib/python3.12/dist-packages (from chromadb) (1.4.2)\n",
            "Requirement already satisfied: uvicorn>=0.18.3 in /usr/local/lib/python3.12/dist-packages (from uvicorn[standard]>=0.18.3->chromadb) (0.35.0)\n",
            "Requirement already satisfied: posthog<6.0.0,>=2.4.0 in /usr/local/lib/python3.12/dist-packages (from chromadb) (5.4.0)\n",
            "Requirement already satisfied: typing-extensions>=4.5.0 in /usr/local/lib/python3.12/dist-packages (from chromadb) (4.15.0)\n",
            "Requirement already satisfied: onnxruntime>=1.14.1 in /usr/local/lib/python3.12/dist-packages (from chromadb) (1.22.1)\n",
            "Requirement already satisfied: opentelemetry-api>=1.2.0 in /usr/local/lib/python3.12/dist-packages (from chromadb) (1.37.0)\n",
            "Requirement already satisfied: opentelemetry-exporter-otlp-proto-grpc>=1.2.0 in /usr/local/lib/python3.12/dist-packages (from chromadb) (1.37.0)\n",
            "Requirement already satisfied: opentelemetry-sdk>=1.2.0 in /usr/local/lib/python3.12/dist-packages (from chromadb) (1.37.0)\n",
            "Requirement already satisfied: tokenizers>=0.13.2 in /usr/local/lib/python3.12/dist-packages (from chromadb) (0.22.0)\n",
            "Requirement already satisfied: pypika>=0.48.9 in /usr/local/lib/python3.12/dist-packages (from chromadb) (0.48.9)\n",
            "Requirement already satisfied: tqdm>=4.65.0 in /usr/local/lib/python3.12/dist-packages (from chromadb) (4.67.1)\n",
            "Requirement already satisfied: overrides>=7.3.1 in /usr/local/lib/python3.12/dist-packages (from chromadb) (7.7.0)\n",
            "Requirement already satisfied: importlib-resources in /usr/local/lib/python3.12/dist-packages (from chromadb) (6.5.2)\n",
            "Requirement already satisfied: grpcio>=1.58.0 in /usr/local/lib/python3.12/dist-packages (from chromadb) (1.75.0)\n",
            "Requirement already satisfied: bcrypt>=4.0.1 in /usr/local/lib/python3.12/dist-packages (from chromadb) (4.3.0)\n",
            "Requirement already satisfied: typer>=0.9.0 in /usr/local/lib/python3.12/dist-packages (from chromadb) (0.17.4)\n",
            "Requirement already satisfied: kubernetes>=28.1.0 in /usr/local/lib/python3.12/dist-packages (from chromadb) (33.1.0)\n",
            "Requirement already satisfied: tenacity>=8.2.3 in /usr/local/lib/python3.12/dist-packages (from chromadb) (8.5.0)\n",
            "Requirement already satisfied: pyyaml>=6.0.0 in /usr/local/lib/python3.12/dist-packages (from chromadb) (6.0.2)\n",
            "Requirement already satisfied: mmh3>=4.0.1 in /usr/local/lib/python3.12/dist-packages (from chromadb) (5.2.0)\n",
            "Requirement already satisfied: orjson>=3.9.12 in /usr/local/lib/python3.12/dist-packages (from chromadb) (3.11.3)\n",
            "Requirement already satisfied: httpx>=0.27.0 in /usr/local/lib/python3.12/dist-packages (from chromadb) (0.28.1)\n",
            "Requirement already satisfied: rich>=10.11.0 in /usr/local/lib/python3.12/dist-packages (from chromadb) (13.9.4)\n",
            "Requirement already satisfied: jsonschema>=4.19.0 in /usr/local/lib/python3.12/dist-packages (from chromadb) (4.25.1)\n",
            "Requirement already satisfied: transformers<5.0.0,>=4.41.0 in /usr/local/lib/python3.12/dist-packages (from sentence-transformers) (4.56.2)\n",
            "Requirement already satisfied: torch>=1.11.0 in /usr/local/lib/python3.12/dist-packages (from sentence-transformers) (2.8.0+cu126)\n",
            "Requirement already satisfied: scikit-learn in /usr/local/lib/python3.12/dist-packages (from sentence-transformers) (1.6.1)\n",
            "Requirement already satisfied: scipy in /usr/local/lib/python3.12/dist-packages (from sentence-transformers) (1.16.2)\n",
            "Requirement already satisfied: huggingface-hub>=0.20.0 in /usr/local/lib/python3.12/dist-packages (from sentence-transformers) (0.35.0)\n",
            "Requirement already satisfied: Pillow in /usr/local/lib/python3.12/dist-packages (from sentence-transformers) (11.3.0)\n",
            "Requirement already satisfied: google-ai-generativelanguage==0.6.15 in /usr/local/lib/python3.12/dist-packages (from google-generativeai) (0.6.15)\n",
            "Requirement already satisfied: google-api-core in /usr/local/lib/python3.12/dist-packages (from google-generativeai) (2.25.1)\n",
            "Requirement already satisfied: google-api-python-client in /usr/local/lib/python3.12/dist-packages (from google-generativeai) (2.182.0)\n",
            "Requirement already satisfied: google-auth>=2.15.0 in /usr/local/lib/python3.12/dist-packages (from google-generativeai) (2.38.0)\n",
            "Requirement already satisfied: protobuf in /usr/local/lib/python3.12/dist-packages (from google-generativeai) (5.29.5)\n",
            "Requirement already satisfied: proto-plus<2.0.0dev,>=1.22.3 in /usr/local/lib/python3.12/dist-packages (from google-ai-generativelanguage==0.6.15->google-generativeai) (1.26.1)\n",
            "Requirement already satisfied: packaging>=19.1 in /usr/local/lib/python3.12/dist-packages (from build>=1.0.3->chromadb) (25.0)\n",
            "Requirement already satisfied: pyproject_hooks in /usr/local/lib/python3.12/dist-packages (from build>=1.0.3->chromadb) (1.2.0)\n",
            "Requirement already satisfied: googleapis-common-protos<2.0.0,>=1.56.2 in /usr/local/lib/python3.12/dist-packages (from google-api-core->google-generativeai) (1.70.0)\n",
            "Requirement already satisfied: requests<3.0.0,>=2.18.0 in /usr/local/lib/python3.12/dist-packages (from google-api-core->google-generativeai) (2.32.4)\n",
            "Requirement already satisfied: cachetools<6.0,>=2.0.0 in /usr/local/lib/python3.12/dist-packages (from google-auth>=2.15.0->google-generativeai) (5.5.2)\n",
            "Requirement already satisfied: pyasn1-modules>=0.2.1 in /usr/local/lib/python3.12/dist-packages (from google-auth>=2.15.0->google-generativeai) (0.4.2)\n",
            "Requirement already satisfied: rsa<5,>=3.1.4 in /usr/local/lib/python3.12/dist-packages (from google-auth>=2.15.0->google-generativeai) (4.9.1)\n",
            "Requirement already satisfied: anyio in /usr/local/lib/python3.12/dist-packages (from httpx>=0.27.0->chromadb) (4.10.0)\n",
            "Requirement already satisfied: certifi in /usr/local/lib/python3.12/dist-packages (from httpx>=0.27.0->chromadb) (2025.8.3)\n",
            "Requirement already satisfied: httpcore==1.* in /usr/local/lib/python3.12/dist-packages (from httpx>=0.27.0->chromadb) (1.0.9)\n",
            "Requirement already satisfied: idna in /usr/local/lib/python3.12/dist-packages (from httpx>=0.27.0->chromadb) (3.10)\n",
            "Requirement already satisfied: h11>=0.16 in /usr/local/lib/python3.12/dist-packages (from httpcore==1.*->httpx>=0.27.0->chromadb) (0.16.0)\n",
            "Requirement already satisfied: filelock in /usr/local/lib/python3.12/dist-packages (from huggingface-hub>=0.20.0->sentence-transformers) (3.19.1)\n",
            "Requirement already satisfied: fsspec>=2023.5.0 in /usr/local/lib/python3.12/dist-packages (from huggingface-hub>=0.20.0->sentence-transformers) (2025.3.0)\n",
            "Requirement already satisfied: hf-xet<2.0.0,>=1.1.3 in /usr/local/lib/python3.12/dist-packages (from huggingface-hub>=0.20.0->sentence-transformers) (1.1.10)\n",
            "Requirement already satisfied: attrs>=22.2.0 in /usr/local/lib/python3.12/dist-packages (from jsonschema>=4.19.0->chromadb) (25.3.0)\n",
            "Requirement already satisfied: jsonschema-specifications>=2023.03.6 in /usr/local/lib/python3.12/dist-packages (from jsonschema>=4.19.0->chromadb) (2025.9.1)\n",
            "Requirement already satisfied: referencing>=0.28.4 in /usr/local/lib/python3.12/dist-packages (from jsonschema>=4.19.0->chromadb) (0.36.2)\n",
            "Requirement already satisfied: rpds-py>=0.7.1 in /usr/local/lib/python3.12/dist-packages (from jsonschema>=4.19.0->chromadb) (0.27.1)\n",
            "Requirement already satisfied: six>=1.9.0 in /usr/local/lib/python3.12/dist-packages (from kubernetes>=28.1.0->chromadb) (1.17.0)\n",
            "Requirement already satisfied: python-dateutil>=2.5.3 in /usr/local/lib/python3.12/dist-packages (from kubernetes>=28.1.0->chromadb) (2.9.0.post0)\n",
            "Requirement already satisfied: websocket-client!=0.40.0,!=0.41.*,!=0.42.*,>=0.32.0 in /usr/local/lib/python3.12/dist-packages (from kubernetes>=28.1.0->chromadb) (1.8.0)\n",
            "Requirement already satisfied: requests-oauthlib in /usr/local/lib/python3.12/dist-packages (from kubernetes>=28.1.0->chromadb) (2.0.0)\n",
            "Requirement already satisfied: oauthlib>=3.2.2 in /usr/local/lib/python3.12/dist-packages (from kubernetes>=28.1.0->chromadb) (3.3.1)\n",
            "Requirement already satisfied: urllib3>=1.24.2 in /usr/local/lib/python3.12/dist-packages (from kubernetes>=28.1.0->chromadb) (2.5.0)\n",
            "Requirement already satisfied: durationpy>=0.7 in /usr/local/lib/python3.12/dist-packages (from kubernetes>=28.1.0->chromadb) (0.10)\n",
            "Requirement already satisfied: coloredlogs in /usr/local/lib/python3.12/dist-packages (from onnxruntime>=1.14.1->chromadb) (15.0.1)\n",
            "Requirement already satisfied: flatbuffers in /usr/local/lib/python3.12/dist-packages (from onnxruntime>=1.14.1->chromadb) (25.2.10)\n",
            "Requirement already satisfied: sympy in /usr/local/lib/python3.12/dist-packages (from onnxruntime>=1.14.1->chromadb) (1.13.3)\n",
            "Requirement already satisfied: importlib-metadata<8.8.0,>=6.0 in /usr/local/lib/python3.12/dist-packages (from opentelemetry-api>=1.2.0->chromadb) (8.7.0)\n",
            "Requirement already satisfied: opentelemetry-exporter-otlp-proto-common==1.37.0 in /usr/local/lib/python3.12/dist-packages (from opentelemetry-exporter-otlp-proto-grpc>=1.2.0->chromadb) (1.37.0)\n",
            "Requirement already satisfied: opentelemetry-proto==1.37.0 in /usr/local/lib/python3.12/dist-packages (from opentelemetry-exporter-otlp-proto-grpc>=1.2.0->chromadb) (1.37.0)\n",
            "Requirement already satisfied: opentelemetry-semantic-conventions==0.58b0 in /usr/local/lib/python3.12/dist-packages (from opentelemetry-sdk>=1.2.0->chromadb) (0.58b0)\n",
            "Requirement already satisfied: backoff>=1.10.0 in /usr/local/lib/python3.12/dist-packages (from posthog<6.0.0,>=2.4.0->chromadb) (2.2.1)\n",
            "Requirement already satisfied: distro>=1.5.0 in /usr/local/lib/python3.12/dist-packages (from posthog<6.0.0,>=2.4.0->chromadb) (1.9.0)\n",
            "Requirement already satisfied: annotated-types>=0.6.0 in /usr/local/lib/python3.12/dist-packages (from pydantic>=1.9->chromadb) (0.7.0)\n",
            "Requirement already satisfied: pydantic-core==2.33.2 in /usr/local/lib/python3.12/dist-packages (from pydantic>=1.9->chromadb) (2.33.2)\n",
            "Requirement already satisfied: typing-inspection>=0.4.0 in /usr/local/lib/python3.12/dist-packages (from pydantic>=1.9->chromadb) (0.4.1)\n",
            "Requirement already satisfied: markdown-it-py>=2.2.0 in /usr/local/lib/python3.12/dist-packages (from rich>=10.11.0->chromadb) (4.0.0)\n",
            "Requirement already satisfied: pygments<3.0.0,>=2.13.0 in /usr/local/lib/python3.12/dist-packages (from rich>=10.11.0->chromadb) (2.19.2)\n",
            "Requirement already satisfied: setuptools in /usr/local/lib/python3.12/dist-packages (from torch>=1.11.0->sentence-transformers) (75.2.0)\n",
            "Requirement already satisfied: networkx in /usr/local/lib/python3.12/dist-packages (from torch>=1.11.0->sentence-transformers) (3.5)\n",
            "Requirement already satisfied: jinja2 in /usr/local/lib/python3.12/dist-packages (from torch>=1.11.0->sentence-transformers) (3.1.6)\n",
            "Requirement already satisfied: nvidia-cuda-nvrtc-cu12==12.6.77 in /usr/local/lib/python3.12/dist-packages (from torch>=1.11.0->sentence-transformers) (12.6.77)\n",
            "Requirement already satisfied: nvidia-cuda-runtime-cu12==12.6.77 in /usr/local/lib/python3.12/dist-packages (from torch>=1.11.0->sentence-transformers) (12.6.77)\n",
            "Requirement already satisfied: nvidia-cuda-cupti-cu12==12.6.80 in /usr/local/lib/python3.12/dist-packages (from torch>=1.11.0->sentence-transformers) (12.6.80)\n",
            "Requirement already satisfied: nvidia-cudnn-cu12==9.10.2.21 in /usr/local/lib/python3.12/dist-packages (from torch>=1.11.0->sentence-transformers) (9.10.2.21)\n",
            "Requirement already satisfied: nvidia-cublas-cu12==12.6.4.1 in /usr/local/lib/python3.12/dist-packages (from torch>=1.11.0->sentence-transformers) (12.6.4.1)\n",
            "Requirement already satisfied: nvidia-cufft-cu12==11.3.0.4 in /usr/local/lib/python3.12/dist-packages (from torch>=1.11.0->sentence-transformers) (11.3.0.4)\n",
            "Requirement already satisfied: nvidia-curand-cu12==10.3.7.77 in /usr/local/lib/python3.12/dist-packages (from torch>=1.11.0->sentence-transformers) (10.3.7.77)\n",
            "Requirement already satisfied: nvidia-cusolver-cu12==11.7.1.2 in /usr/local/lib/python3.12/dist-packages (from torch>=1.11.0->sentence-transformers) (11.7.1.2)\n",
            "Requirement already satisfied: nvidia-cusparse-cu12==12.5.4.2 in /usr/local/lib/python3.12/dist-packages (from torch>=1.11.0->sentence-transformers) (12.5.4.2)\n",
            "Requirement already satisfied: nvidia-cusparselt-cu12==0.7.1 in /usr/local/lib/python3.12/dist-packages (from torch>=1.11.0->sentence-transformers) (0.7.1)\n",
            "Requirement already satisfied: nvidia-nccl-cu12==2.27.3 in /usr/local/lib/python3.12/dist-packages (from torch>=1.11.0->sentence-transformers) (2.27.3)\n",
            "Requirement already satisfied: nvidia-nvtx-cu12==12.6.77 in /usr/local/lib/python3.12/dist-packages (from torch>=1.11.0->sentence-transformers) (12.6.77)\n",
            "Requirement already satisfied: nvidia-nvjitlink-cu12==12.6.85 in /usr/local/lib/python3.12/dist-packages (from torch>=1.11.0->sentence-transformers) (12.6.85)\n",
            "Requirement already satisfied: nvidia-cufile-cu12==1.11.1.6 in /usr/local/lib/python3.12/dist-packages (from torch>=1.11.0->sentence-transformers) (1.11.1.6)\n",
            "Requirement already satisfied: triton==3.4.0 in /usr/local/lib/python3.12/dist-packages (from torch>=1.11.0->sentence-transformers) (3.4.0)\n",
            "Requirement already satisfied: regex!=2019.12.17 in /usr/local/lib/python3.12/dist-packages (from transformers<5.0.0,>=4.41.0->sentence-transformers) (2024.11.6)\n",
            "Requirement already satisfied: safetensors>=0.4.3 in /usr/local/lib/python3.12/dist-packages (from transformers<5.0.0,>=4.41.0->sentence-transformers) (0.6.2)\n",
            "Requirement already satisfied: click>=8.0.0 in /usr/local/lib/python3.12/dist-packages (from typer>=0.9.0->chromadb) (8.2.1)\n",
            "Requirement already satisfied: shellingham>=1.3.0 in /usr/local/lib/python3.12/dist-packages (from typer>=0.9.0->chromadb) (1.5.4)\n",
            "Requirement already satisfied: httptools>=0.6.3 in /usr/local/lib/python3.12/dist-packages (from uvicorn[standard]>=0.18.3->chromadb) (0.6.4)\n",
            "Requirement already satisfied: python-dotenv>=0.13 in /usr/local/lib/python3.12/dist-packages (from uvicorn[standard]>=0.18.3->chromadb) (1.1.1)\n",
            "Requirement already satisfied: uvloop>=0.15.1 in /usr/local/lib/python3.12/dist-packages (from uvicorn[standard]>=0.18.3->chromadb) (0.21.0)\n",
            "Requirement already satisfied: watchfiles>=0.13 in /usr/local/lib/python3.12/dist-packages (from uvicorn[standard]>=0.18.3->chromadb) (1.1.0)\n",
            "Requirement already satisfied: websockets>=10.4 in /usr/local/lib/python3.12/dist-packages (from uvicorn[standard]>=0.18.3->chromadb) (15.0.1)\n",
            "Requirement already satisfied: httplib2<1.0.0,>=0.19.0 in /usr/local/lib/python3.12/dist-packages (from google-api-python-client->google-generativeai) (0.31.0)\n",
            "Requirement already satisfied: google-auth-httplib2<1.0.0,>=0.2.0 in /usr/local/lib/python3.12/dist-packages (from google-api-python-client->google-generativeai) (0.2.0)\n",
            "Requirement already satisfied: uritemplate<5,>=3.0.1 in /usr/local/lib/python3.12/dist-packages (from google-api-python-client->google-generativeai) (4.2.0)\n",
            "Requirement already satisfied: joblib>=1.2.0 in /usr/local/lib/python3.12/dist-packages (from scikit-learn->sentence-transformers) (1.5.2)\n",
            "Requirement already satisfied: threadpoolctl>=3.1.0 in /usr/local/lib/python3.12/dist-packages (from scikit-learn->sentence-transformers) (3.6.0)\n",
            "Requirement already satisfied: grpcio-status<2.0.0,>=1.33.2 in /usr/local/lib/python3.12/dist-packages (from google-api-core[grpc]!=2.0.*,!=2.1.*,!=2.10.*,!=2.2.*,!=2.3.*,!=2.4.*,!=2.5.*,!=2.6.*,!=2.7.*,!=2.8.*,!=2.9.*,<3.0.0dev,>=1.34.1->google-ai-generativelanguage==0.6.15->google-generativeai) (1.71.2)\n",
            "Requirement already satisfied: pyparsing<4,>=3.0.4 in /usr/local/lib/python3.12/dist-packages (from httplib2<1.0.0,>=0.19.0->google-api-python-client->google-generativeai) (3.2.4)\n",
            "Requirement already satisfied: zipp>=3.20 in /usr/local/lib/python3.12/dist-packages (from importlib-metadata<8.8.0,>=6.0->opentelemetry-api>=1.2.0->chromadb) (3.23.0)\n",
            "Requirement already satisfied: mdurl~=0.1 in /usr/local/lib/python3.12/dist-packages (from markdown-it-py>=2.2.0->rich>=10.11.0->chromadb) (0.1.2)\n",
            "Requirement already satisfied: pyasn1<0.7.0,>=0.6.1 in /usr/local/lib/python3.12/dist-packages (from pyasn1-modules>=0.2.1->google-auth>=2.15.0->google-generativeai) (0.6.1)\n",
            "Requirement already satisfied: charset_normalizer<4,>=2 in /usr/local/lib/python3.12/dist-packages (from requests<3.0.0,>=2.18.0->google-api-core->google-generativeai) (3.4.3)\n",
            "Requirement already satisfied: mpmath<1.4,>=1.1.0 in /usr/local/lib/python3.12/dist-packages (from sympy->onnxruntime>=1.14.1->chromadb) (1.3.0)\n",
            "Requirement already satisfied: sniffio>=1.1 in /usr/local/lib/python3.12/dist-packages (from anyio->httpx>=0.27.0->chromadb) (1.3.1)\n",
            "Requirement already satisfied: humanfriendly>=9.1 in /usr/local/lib/python3.12/dist-packages (from coloredlogs->onnxruntime>=1.14.1->chromadb) (10.0)\n",
            "Requirement already satisfied: MarkupSafe>=2.0 in /usr/local/lib/python3.12/dist-packages (from jinja2->torch>=1.11.0->sentence-transformers) (3.0.2)\n"
          ]
        }
      ]
    },
    {
      "cell_type": "code",
      "execution_count": 17,
      "metadata": {
        "id": "s7Q2HHrgeQSM",
        "colab": {
          "base_uri": "https://localhost:8080/",
          "height": 180
        },
        "outputId": "f65b3ff9-83f8-47a5-e67a-09a23de094a8"
      },
      "outputs": [
        {
          "output_type": "stream",
          "name": "stdout",
          "text": [
            "📂 Sube un archivo de texto con información (ej: cuantica.txt, historia_colombia.txt, etc.)\n"
          ]
        },
        {
          "output_type": "display_data",
          "data": {
            "text/plain": [
              "<IPython.core.display.HTML object>"
            ],
            "text/html": [
              "\n",
              "     <input type=\"file\" id=\"files-298fb229-edbb-4443-ad42-bcbec2c0deac\" name=\"files[]\" multiple disabled\n",
              "        style=\"border:none\" />\n",
              "     <output id=\"result-298fb229-edbb-4443-ad42-bcbec2c0deac\">\n",
              "      Upload widget is only available when the cell has been executed in the\n",
              "      current browser session. Please rerun this cell to enable.\n",
              "      </output>\n",
              "      <script>// Copyright 2017 Google LLC\n",
              "//\n",
              "// Licensed under the Apache License, Version 2.0 (the \"License\");\n",
              "// you may not use this file except in compliance with the License.\n",
              "// You may obtain a copy of the License at\n",
              "//\n",
              "//      http://www.apache.org/licenses/LICENSE-2.0\n",
              "//\n",
              "// Unless required by applicable law or agreed to in writing, software\n",
              "// distributed under the License is distributed on an \"AS IS\" BASIS,\n",
              "// WITHOUT WARRANTIES OR CONDITIONS OF ANY KIND, either express or implied.\n",
              "// See the License for the specific language governing permissions and\n",
              "// limitations under the License.\n",
              "\n",
              "/**\n",
              " * @fileoverview Helpers for google.colab Python module.\n",
              " */\n",
              "(function(scope) {\n",
              "function span(text, styleAttributes = {}) {\n",
              "  const element = document.createElement('span');\n",
              "  element.textContent = text;\n",
              "  for (const key of Object.keys(styleAttributes)) {\n",
              "    element.style[key] = styleAttributes[key];\n",
              "  }\n",
              "  return element;\n",
              "}\n",
              "\n",
              "// Max number of bytes which will be uploaded at a time.\n",
              "const MAX_PAYLOAD_SIZE = 100 * 1024;\n",
              "\n",
              "function _uploadFiles(inputId, outputId) {\n",
              "  const steps = uploadFilesStep(inputId, outputId);\n",
              "  const outputElement = document.getElementById(outputId);\n",
              "  // Cache steps on the outputElement to make it available for the next call\n",
              "  // to uploadFilesContinue from Python.\n",
              "  outputElement.steps = steps;\n",
              "\n",
              "  return _uploadFilesContinue(outputId);\n",
              "}\n",
              "\n",
              "// This is roughly an async generator (not supported in the browser yet),\n",
              "// where there are multiple asynchronous steps and the Python side is going\n",
              "// to poll for completion of each step.\n",
              "// This uses a Promise to block the python side on completion of each step,\n",
              "// then passes the result of the previous step as the input to the next step.\n",
              "function _uploadFilesContinue(outputId) {\n",
              "  const outputElement = document.getElementById(outputId);\n",
              "  const steps = outputElement.steps;\n",
              "\n",
              "  const next = steps.next(outputElement.lastPromiseValue);\n",
              "  return Promise.resolve(next.value.promise).then((value) => {\n",
              "    // Cache the last promise value to make it available to the next\n",
              "    // step of the generator.\n",
              "    outputElement.lastPromiseValue = value;\n",
              "    return next.value.response;\n",
              "  });\n",
              "}\n",
              "\n",
              "/**\n",
              " * Generator function which is called between each async step of the upload\n",
              " * process.\n",
              " * @param {string} inputId Element ID of the input file picker element.\n",
              " * @param {string} outputId Element ID of the output display.\n",
              " * @return {!Iterable<!Object>} Iterable of next steps.\n",
              " */\n",
              "function* uploadFilesStep(inputId, outputId) {\n",
              "  const inputElement = document.getElementById(inputId);\n",
              "  inputElement.disabled = false;\n",
              "\n",
              "  const outputElement = document.getElementById(outputId);\n",
              "  outputElement.innerHTML = '';\n",
              "\n",
              "  const pickedPromise = new Promise((resolve) => {\n",
              "    inputElement.addEventListener('change', (e) => {\n",
              "      resolve(e.target.files);\n",
              "    });\n",
              "  });\n",
              "\n",
              "  const cancel = document.createElement('button');\n",
              "  inputElement.parentElement.appendChild(cancel);\n",
              "  cancel.textContent = 'Cancel upload';\n",
              "  const cancelPromise = new Promise((resolve) => {\n",
              "    cancel.onclick = () => {\n",
              "      resolve(null);\n",
              "    };\n",
              "  });\n",
              "\n",
              "  // Wait for the user to pick the files.\n",
              "  const files = yield {\n",
              "    promise: Promise.race([pickedPromise, cancelPromise]),\n",
              "    response: {\n",
              "      action: 'starting',\n",
              "    }\n",
              "  };\n",
              "\n",
              "  cancel.remove();\n",
              "\n",
              "  // Disable the input element since further picks are not allowed.\n",
              "  inputElement.disabled = true;\n",
              "\n",
              "  if (!files) {\n",
              "    return {\n",
              "      response: {\n",
              "        action: 'complete',\n",
              "      }\n",
              "    };\n",
              "  }\n",
              "\n",
              "  for (const file of files) {\n",
              "    const li = document.createElement('li');\n",
              "    li.append(span(file.name, {fontWeight: 'bold'}));\n",
              "    li.append(span(\n",
              "        `(${file.type || 'n/a'}) - ${file.size} bytes, ` +\n",
              "        `last modified: ${\n",
              "            file.lastModifiedDate ? file.lastModifiedDate.toLocaleDateString() :\n",
              "                                    'n/a'} - `));\n",
              "    const percent = span('0% done');\n",
              "    li.appendChild(percent);\n",
              "\n",
              "    outputElement.appendChild(li);\n",
              "\n",
              "    const fileDataPromise = new Promise((resolve) => {\n",
              "      const reader = new FileReader();\n",
              "      reader.onload = (e) => {\n",
              "        resolve(e.target.result);\n",
              "      };\n",
              "      reader.readAsArrayBuffer(file);\n",
              "    });\n",
              "    // Wait for the data to be ready.\n",
              "    let fileData = yield {\n",
              "      promise: fileDataPromise,\n",
              "      response: {\n",
              "        action: 'continue',\n",
              "      }\n",
              "    };\n",
              "\n",
              "    // Use a chunked sending to avoid message size limits. See b/62115660.\n",
              "    let position = 0;\n",
              "    do {\n",
              "      const length = Math.min(fileData.byteLength - position, MAX_PAYLOAD_SIZE);\n",
              "      const chunk = new Uint8Array(fileData, position, length);\n",
              "      position += length;\n",
              "\n",
              "      const base64 = btoa(String.fromCharCode.apply(null, chunk));\n",
              "      yield {\n",
              "        response: {\n",
              "          action: 'append',\n",
              "          file: file.name,\n",
              "          data: base64,\n",
              "        },\n",
              "      };\n",
              "\n",
              "      let percentDone = fileData.byteLength === 0 ?\n",
              "          100 :\n",
              "          Math.round((position / fileData.byteLength) * 100);\n",
              "      percent.textContent = `${percentDone}% done`;\n",
              "\n",
              "    } while (position < fileData.byteLength);\n",
              "  }\n",
              "\n",
              "  // All done.\n",
              "  yield {\n",
              "    response: {\n",
              "      action: 'complete',\n",
              "    }\n",
              "  };\n",
              "}\n",
              "\n",
              "scope.google = scope.google || {};\n",
              "scope.google.colab = scope.google.colab || {};\n",
              "scope.google.colab._files = {\n",
              "  _uploadFiles,\n",
              "  _uploadFilesContinue,\n",
              "};\n",
              "})(self);\n",
              "</script> "
            ]
          },
          "metadata": {}
        },
        {
          "output_type": "stream",
          "name": "stdout",
          "text": [
            "Saving cuantica.txt to cuantica (10).txt\n",
            "\n",
            " Respuesta generada con FusionRAG:\n",
            "Niels Bohr propuso un modelo atómico en 1913.  El texto explícitamente indica que Bohr, en ese año, propuso un modelo atómico donde los electrones orbitaban en niveles de energía cuantizados alrededor del núcleo.  Este modelo fue un paso crucial en el desarrollo de la teoría cuántica, ya que incorporaba la idea de cuantización de la energía introducida por Planck.\n",
            "\n"
          ]
        }
      ],
      "source": [
        "# ================= DEMO FUSION RAG ==================\n",
        "\n",
        "\n",
        "from rank_bm25 import BM25Okapi\n",
        "import google.generativeai as genai\n",
        "from sentence_transformers import SentenceTransformer\n",
        "import chromadb\n",
        "import os\n",
        "from google.colab import files\n",
        "\n",
        "# ================= SUBIR DOCUMENTO ==================\n",
        "print(\"📂 Sube un archivo de texto con información (ej: cuantica.txt, historia_colombia.txt, etc.)\")\n",
        "uploaded = files.upload()\n",
        "\n",
        "file_name = list(uploaded.keys())[0]\n",
        "with open(file_name, \"r\", encoding=\"utf-8\") as f:\n",
        "    text = f.read()\n",
        "\n",
        "# ================= CHUNKING ==================\n",
        "def chunk_text(text, chunk_size=80, overlap=20):\n",
        "    words = text.split()\n",
        "    return [\" \".join(words[i:i+chunk_size]) for i in range(0, len(words), chunk_size - overlap)]\n",
        "\n",
        "docs = chunk_text(text)\n",
        "\n",
        "# ========= Vector Store (embeddings con ChromaDB)\n",
        "embedder = SentenceTransformer(\"all-MiniLM-L6-v2\")\n",
        "client = chromadb.Client()\n",
        "collection = client.get_or_create_collection(\"fusion_chunks\")\n",
        "embeddings = embedder.encode(docs).tolist()\n",
        "for i, d in enumerate(docs):\n",
        "    collection.add(documents=[d], embeddings=[embeddings[i]], ids=[str(i)])\n",
        "\n",
        "# ========= BM25 retriever\n",
        "tokenized_corpus = [d.split(\" \") for d in docs]\n",
        "bm25 = BM25Okapi(tokenized_corpus)\n",
        "\n",
        "# ========= Fusion Retrieval\n",
        "query = \"¿Qué científico propuso un modelo atómico en 1913?\"\n",
        "q_embed = embedder.encode([query]).tolist()\n",
        "results_vector = collection.query(query_embeddings=q_embed, n_results=3)\n",
        "results_bm25 = bm25.get_top_n(query.split(\" \"), docs, n=3)\n",
        "\n",
        "# Fusión (simple: concatenación + eliminación de duplicados)\n",
        "fusion_results = list(set(results_vector['documents'][0] + results_bm25))\n",
        "retrieved_context = \" \".join(fusion_results)\n",
        "\n",
        "# ================= GEMINI PARA RESPUESTA FINAL ==================\n",
        "response = model.generate_content(\n",
        "    f\"Basándote en el siguiente contexto (resultado de fusión de múltiples recuperadores), responde la pregunta y añade explicación:\\n\\n{retrieved_context}\\n\\nPregunta: {query}\"\n",
        ")\n",
        "\n",
        "print(\"\\n Respuesta generada con FusionRAG:\")\n",
        "\n",
        "respuesta5=response.text\n",
        "print(respuesta5)\n"
      ]
    },
    {
      "cell_type": "code",
      "source": [
        "response = model.generate_content(\n",
        "    f\" responde la pregunta y añade explicación:\\n\\nPregunta: {query}\"\n",
        ")\n",
        "\n",
        "print(\"\\n Respuesta generada con FusionRAG:\")\n",
        "\n",
        "respuesta6=response.text\n",
        "print(respuesta6)\n"
      ],
      "metadata": {
        "colab": {
          "base_uri": "https://localhost:8080/",
          "height": 315
        },
        "id": "sytkMdru9Z7j",
        "outputId": "29a1162e-d02e-4148-9b7c-e9957ad70e06"
      },
      "execution_count": 18,
      "outputs": [
        {
          "output_type": "stream",
          "name": "stdout",
          "text": [
            "\n",
            " Respuesta generada con FusionRAG:\n",
            "El científico que propuso un modelo atómico en 1913 fue **Niels Bohr**.\n",
            "\n",
            "**Explicación:**\n",
            "\n",
            "Antes del modelo de Bohr, el modelo atómico de Rutherford describía el átomo como un núcleo denso y positivo rodeado por electrones que orbitaban a su alrededor.  Sin embargo, este modelo tenía un gran problema: según las leyes de la física clásica, los electrones en órbita deberían emitir continuamente radiación electromagnética, perdiendo energía y eventualmente colapsando en el núcleo.  Esto claramente no sucede.\n",
            "\n",
            "Bohr resolvió este problema introduciendo dos postulados principales en su modelo:\n",
            "\n",
            "1. **Los electrones orbitan el núcleo en órbitas específicas y estacionarias con niveles de energía definidos.**  Estos niveles de energía son cuantizados, lo que significa que solo se permiten ciertas energías discretas, no un rango continuo.  Los electrones no emiten radiación mientras permanecen en estas órbitas.\n",
            "\n",
            "2. **Los electrones pueden saltar entre órbitas absorbiendo o emitiendo fotones de energía específica.** La energía del fotón corresponde exactamente a la diferencia de energía entre las dos órbitas.  Este salto entre órbitas explica el espectro de líneas discretas observado en la luz emitida por los átomos excitados.\n",
            "\n",
            "El modelo de Bohr, aunque posteriormente fue reemplazado por modelos más complejos y precisos basados en la mecánica cuántica, fue un paso crucial en la comprensión de la estructura atómica.  Proporcionó una explicación satisfactoria para el espectro de emisión del hidrógeno y sentó las bases para desarrollos posteriores en la física atómica.\n",
            "\n"
          ]
        }
      ]
    },
    {
      "cell_type": "code",
      "source": [
        "print(retrieved_context)"
      ],
      "metadata": {
        "colab": {
          "base_uri": "https://localhost:8080/"
        },
        "id": "Zmf6up9IBWhT",
        "outputId": "2abeb5a8-72ef-4a3b-f4c3-ee62f42ef85c"
      },
      "execution_count": 19,
      "outputs": [
        {
          "output_type": "stream",
          "name": "stdout",
          "text": [
            "Max Planck introdujo en 1900 la idea de que la energía no se emite de manera continua, sino en cuantos discretos. Este fue el inicio de la teoría cuántica. Albert Einstein en 1905 explicó el efecto fotoeléctrico utilizando el concepto de cuantos de luz, lo que posteriormente llamó fotones. Niels Bohr en 1913 propuso su modelo atómico, donde los electrones orbitaban en niveles de energía cuantizados alrededor del núcleo. Werner Heisenberg enunció en 1927 el principio de incertidumbre, que indica la electrodinámica cuántica y popularizó el uso de diagramas que llevan su nombre. orbitaban en niveles de energía cuantizados alrededor del núcleo. Werner Heisenberg enunció en 1927 el principio de incertidumbre, que indica que no es posible conocer con precisión la posición y el momento de una partícula al mismo tiempo. Erwin Schrödinger desarrolló la ecuación de onda en 1926, fundamental para describir el comportamiento cuántico de las partículas. Richard Feynman contribuyó a la electrodinámica cuántica y popularizó el uso de diagramas que llevan su nombre.\n"
          ]
        }
      ]
    },
    {
      "cell_type": "markdown",
      "source": [
        "# Cálculo de métricas"
      ],
      "metadata": {
        "id": "ZaU2Abxks5DN"
      }
    },
    {
      "cell_type": "code",
      "source": [
        "def compute_bleu(candidate: str, references: list, weights=(0.25, 0.25, 0.25, 0.25)):\n",
        "    \"\"\"\n",
        "    Compute BLEU score for one candidate against one or more references.\n",
        "    - candidate: string\n",
        "    - references: list of strings\n",
        "    - weights: tuple for 1- to 4-gram weights (default uniform)\n",
        "    \"\"\"\n",
        "    cand_tokens = word_tokenize(candidate.lower())\n",
        "    ref_tokens_list = [word_tokenize(r.lower()) for r in references]\n",
        "    smoothie = SmoothingFunction().method1\n",
        "    score = sentence_bleu(ref_tokens_list, cand_tokens, weights=weights, smoothing_function=smoothie)\n",
        "    return score\n",
        "\n",
        "def compute_rouge(ref: str, pred: str):\n",
        "    scorer = rouge_scorer.RougeScorer(['rouge1', 'rougeL'], use_stemmer=True)\n",
        "    scores = scorer.score(ref, pred)\n",
        "    return {k: {'precision': v.precision, 'recall': v.recall, 'f1': v.fmeasure} for k, v in scores.items()}"
      ],
      "metadata": {
        "id": "96h-jgLbxonC"
      },
      "execution_count": 20,
      "outputs": []
    },
    {
      "cell_type": "markdown",
      "source": [
        "###"
      ],
      "metadata": {
        "id": "LZ5JZA2G7RT5"
      }
    },
    {
      "cell_type": "markdown",
      "source": [
        "### 1. Demo Básica de Retrieval-Augmented Generation"
      ],
      "metadata": {
        "id": "lZSieiG7yKT9"
      }
    },
    {
      "cell_type": "code",
      "source": [
        "source_text =  \"\"\"\n",
        "El científico que propuso un modelo atómico en 1913 fue Niels Bohr.\n",
        "\n",
        "Su propuesta consistía en que los electrones giran alrededor del núcleo en órbitas definidas y con niveles de energía cuantizados. Esto permitía explicar fenómenos como el espectro de emisión del hidrógeno, que no podía describirse con modelos anteriores.\n",
        "\n",
        "Explicación adicional:\n",
        "El modelo de Bohr fue un gran avance porque combinó la física clásica con las ideas de la naciente teoría cuántica. Aunque más tarde fue reemplazado por el modelo mecánico-cuántico (Schrödinger y Heisenberg), sigue siendo fundamental en la enseñanza de la física porque introdujo la idea de niveles de energía discretos para los electrones.\n",
        "\"\"\"\n",
        "summary_a = respuesta1 # con contexto\n",
        "summary_b = respuesta2 # sin contexto\n",
        "\n",
        "scores_a = compute_rouge(source_text, summary_a)\n",
        "scores_b = compute_rouge(source_text, summary_b)\n",
        "print('ROUGE Con Contexto:', scores_a)\n",
        "print('ROUGE Sin Contexto:', scores_b)\n",
        "\n",
        "bleu_a = compute_bleu(summary_a, [source_text])\n",
        "bleu_b = compute_bleu(summary_b, [source_text])\n",
        "print('BLEU Con Contexto:', bleu_a)\n",
        "print('BLEU Sin Contexto:', bleu_b)\n",
        "\n",
        "\n",
        "# Simple visualization for F1\n",
        "labels = ['ROUGE-1', 'ROUGE-L']\n",
        "a_f1 = [scores_a['rouge1']['f1'], scores_a['rougeL']['f1']]\n",
        "b_f1 = [scores_b['rouge1']['f1'], scores_b['rougeL']['f1']]\n",
        "x = range(len(labels))\n",
        "plt.figure(figsize=(8,5))\n",
        "plt.bar([i-0.15 for i in x], a_f1, width=0.3, label='Con Contexto')\n",
        "plt.bar([i+0.15 for i in x], b_f1, width=0.3, label='Sin Contexto')\n",
        "plt.xticks(x, labels)\n",
        "plt.ylim(0,1)\n",
        "plt.ylabel('F1 Score')\n",
        "plt.title('ROUGE Comparison')\n",
        "plt.legend()\n",
        "plt.show()"
      ],
      "metadata": {
        "colab": {
          "base_uri": "https://localhost:8080/",
          "height": 557
        },
        "id": "V_ZwIpTRs2vN",
        "outputId": "2558f486-c7f6-445a-a811-5c457a2f4ef5"
      },
      "execution_count": 21,
      "outputs": [
        {
          "output_type": "stream",
          "name": "stdout",
          "text": [
            "ROUGE Con Contexto: {'rouge1': {'precision': 0.6363636363636364, 'recall': 0.5426356589147286, 'f1': 0.5857740585774058}, 'rougeL': {'precision': 0.37272727272727274, 'recall': 0.3178294573643411, 'f1': 0.34309623430962344}}\n",
            "ROUGE Sin Contexto: {'rouge1': {'precision': 0.4647058823529412, 'recall': 0.6124031007751938, 'f1': 0.5284280936454849}, 'rougeL': {'precision': 0.27647058823529413, 'recall': 0.3643410852713178, 'f1': 0.31438127090301005}}\n",
            "BLEU Con Contexto: 0.16109698158628147\n",
            "BLEU Sin Contexto: 0.1597961026008752\n"
          ]
        },
        {
          "output_type": "display_data",
          "data": {
            "text/plain": [
              "<Figure size 800x500 with 1 Axes>"
            ],
            "image/png": "[encoded data removed]"
          },
          "metadata": {}
        }
      ]
    },
    {
      "cell_type": "markdown",
      "source": [
        "### 2. GraphRAG con Gemini + Neo4j"
      ],
      "metadata": {
        "id": "tgLMp5ry7YCa"
      }
    },
    {
      "cell_type": "code",
      "source": [
        "source_text =  \"\"\"\n",
        "Elon Musk\n",
        "\n",
        "Tesla: fabricante de automóviles eléctricos y soluciones de energía renovable.\n",
        " Importancia: ha impulsado la transición hacia la movilidad sostenible y la reducción de la dependencia de combustibles fósiles.\n",
        "\n",
        "SpaceX: empresa de exploración espacial que desarrolla cohetes y satélites.\n",
        " Importancia: ha revolucionado la industria aeroespacial con cohetes reutilizables y proyectos para abaratar y ampliar el acceso al espacio.\n",
        "\n",
        "PayPal (participó en su creación): sistema de pagos en línea.\n",
        " Importancia: transformó las transacciones digitales y sentó las bases del comercio electrónico moderno.\n",
        "\n",
        "Steve Jobs\n",
        "\n",
        "Apple: empresa reconocida por sus productos tecnológicos innovadores (iPhone, iPad, MacBook).\n",
        " Importancia: fue clave en el desarrollo de la industria de dispositivos inteligentes, cambiando la forma en que las personas se comunican, trabajan y consumen información.\n",
        "\"\"\"\n",
        "summary_a = respuesta3 # con contexto\n",
        "summary_b = respuesta4 # sin contexto\n",
        "\n",
        "scores_a = compute_rouge(source_text, summary_a)\n",
        "scores_b = compute_rouge(source_text, summary_b)\n",
        "print('ROUGE Con Contexto:', scores_a)\n",
        "print('ROUGE Sin Contexto:', scores_b)\n",
        "\n",
        "bleu_a = compute_bleu(summary_a, [source_text])\n",
        "bleu_b = compute_bleu(summary_b, [source_text])\n",
        "print('BLEU Con Contexto:', bleu_a)\n",
        "print('BLEU Sin Contexto:', bleu_b)\n",
        "\n",
        "# Simple visualization for F1\n",
        "labels = ['ROUGE-1', 'ROUGE-L']\n",
        "a_f1 = [scores_a['rouge1']['f1'], scores_a['rougeL']['f1']]\n",
        "b_f1 = [scores_b['rouge1']['f1'], scores_b['rougeL']['f1']]\n",
        "x = range(len(labels))\n",
        "plt.figure(figsize=(8,5))\n",
        "plt.bar([i-0.15 for i in x], a_f1, width=0.3, label='Con Contexto')\n",
        "plt.bar([i+0.15 for i in x], b_f1, width=0.3, label='Sin Contexto')\n",
        "plt.xticks(x, labels)\n",
        "plt.ylim(0,1)\n",
        "plt.ylabel('F1 Score')\n",
        "plt.title('ROUGE Comparison')\n",
        "plt.legend()\n",
        "plt.show()"
      ],
      "metadata": {
        "colab": {
          "base_uri": "https://localhost:8080/",
          "height": 557
        },
        "id": "_WwwQHRi7W9D",
        "outputId": "e1586718-6c7f-4955-99c8-cada9d6c9a89"
      },
      "execution_count": 22,
      "outputs": [
        {
          "output_type": "stream",
          "name": "stdout",
          "text": [
            "ROUGE Con Contexto: {'rouge1': {'precision': 0.4603174603174603, 'recall': 0.6541353383458647, 'f1': 0.5403726708074534}, 'rougeL': {'precision': 0.3544973544973545, 'recall': 0.5037593984962406, 'f1': 0.4161490683229813}}\n",
            "ROUGE Sin Contexto: {'rouge1': {'precision': 0.12311901504787962, 'recall': 0.6766917293233082, 'f1': 0.20833333333333331}, 'rougeL': {'precision': 0.07523939808481532, 'recall': 0.41353383458646614, 'f1': 0.12731481481481483}}\n",
            "BLEU Con Contexto: 0.21952336794881874\n",
            "BLEU Sin Contexto: 0.017929649499946517\n"
          ]
        },
        {
          "output_type": "display_data",
          "data": {
            "text/plain": [
              "<Figure size 800x500 with 1 Axes>"
            ],
            "image/png": "[encoded data removed]"
          },
          "metadata": {}
        }
      ]
    },
    {
      "cell_type": "markdown",
      "source": [
        "### 3.FusionRAG"
      ],
      "metadata": {
        "id": "CIv25-PD8h0X"
      }
    },
    {
      "cell_type": "code",
      "source": [
        "source_text =  \"\"\"\n",
        "El científico que propuso un modelo atómico en 1913 fue Niels Bohr.\n",
        "\n",
        "Bohr planteó que los electrones no se movían libremente alrededor del núcleo, sino que ocupaban órbitas o niveles de energía cuantizados. Solo podían pasar de un nivel a otro emitiendo o absorbiendo energía en forma de cuantos (fotones).\n",
        "\n",
        "Este modelo fue crucial porque combinó la física clásica con la naciente teoría cuántica, explicando con éxito fenómenos como el espectro de emisión del hidrógeno, algo que los modelos anteriores (como el de Rutherford) no podían justificar. Aunque luego fue reemplazado por modelos más avanzados (como el mecánico-cuántico de Schrödinger y Heisenberg), el modelo de Bohr marcó un hito en la comprensión de la estructura atómica.\n",
        "\"\"\"\n",
        "summary_a = respuesta5 # con contexto\n",
        "summary_b = respuesta6 # sin contexto\n",
        "\n",
        "scores_a = compute_rouge(source_text, summary_a)\n",
        "scores_b = compute_rouge(source_text, summary_b)\n",
        "print('ROUGE Con Contexto:', scores_a)\n",
        "print('ROUGE Sin Contexto B:', scores_b)\n",
        "\n",
        "bleu_a = compute_bleu(summary_a, [source_text])\n",
        "bleu_b = compute_bleu(summary_b, [source_text])\n",
        "print('BLEU Con Contexto:', bleu_a)\n",
        "print('BLEU Sin Contexto:', bleu_b)\n",
        "\n",
        "# Simple visualization for F1\n",
        "labels = ['ROUGE-1', 'ROUGE-L']\n",
        "a_f1 = [scores_a['rouge1']['f1'], scores_a['rougeL']['f1']]\n",
        "b_f1 = [scores_b['rouge1']['f1'], scores_b['rougeL']['f1']]\n",
        "x = range(len(labels))\n",
        "plt.figure(figsize=(8,5))\n",
        "plt.bar([i-0.15 for i in x], a_f1, width=0.3, label='Con Contexto')\n",
        "plt.bar([i+0.15 for i in x], b_f1, width=0.3, label='Sin Contexto')\n",
        "plt.xticks(x, labels)\n",
        "plt.ylim(0,1)\n",
        "plt.ylabel('F1 Score')\n",
        "plt.title('ROUGE Comparison')\n",
        "plt.legend()\n",
        "plt.show()"
      ],
      "metadata": {
        "colab": {
          "base_uri": "https://localhost:8080/",
          "height": 557
        },
        "id": "ntav02Re8cWJ",
        "outputId": "54cbe842-ecb6-4002-8012-5835f0a3132a"
      },
      "execution_count": 24,
      "outputs": [
        {
          "output_type": "stream",
          "name": "stdout",
          "text": [
            "ROUGE Con Contexto: {'rouge1': {'precision': 0.7391304347826086, 'recall': 0.3695652173913043, 'f1': 0.49275362318840565}, 'rougeL': {'precision': 0.42028985507246375, 'recall': 0.21014492753623187, 'f1': 0.28019323671497587}}\n",
            "ROUGE Sin Contexto B: {'rouge1': {'precision': 0.37037037037037035, 'recall': 0.7246376811594203, 'f1': 0.49019607843137253}, 'rougeL': {'precision': 0.2222222222222222, 'recall': 0.43478260869565216, 'f1': 0.29411764705882354}}\n",
            "BLEU Con Contexto: 0.07236497830648353\n",
            "BLEU Sin Contexto: 0.13466431564720913\n"
          ]
        },
        {
          "output_type": "display_data",
          "data": {
            "text/plain": [
              "<Figure size 800x500 with 1 Axes>"
            ],
            "image/png": "[encoded data removed]"
          },
          "metadata": {}
        }
      ]
    },
    {
      "cell_type": "markdown",
      "metadata": {
        "id": "69c19d75"
      },
      "source": [
        "Resumen de Métricas\n",
        "\n",
        "1.Basic RAG\n",
        "\n",
        "- ROUGE: Con contexto, F1 de ROUGE-1 (0.586 vs 0.528) y ROUGE-L (0.343 vs 0.314) fueron un poco mejores.\n",
        "\n",
        "- BLEU: Con contexto también fue ligeramente superior (0.161 vs 0.160).\n",
        "\n",
        "- Conclusión: Exitese una ligera mejora con contexto\n",
        "\n",
        "2.GraphRAG\n",
        "\n",
        "- ROUGE: Con contexto, mejoras claras en ROUGE-1 (0.540 vs 0.208) y ROUGE-L (0.416 vs 0.127).\n",
        "\n",
        "- BLEU: Aumenta de forma notable (0.220 vs 0.018).\n",
        "\n",
        "- Conclusión: El contexto del grafo aporta un impacto muy positivo.\n",
        "\n",
        "3.FusionRAG\n",
        "\n",
        "- ROUGE: Resultados muy similares entre con y sin contexto (0.493 vs 0.490 en ROUGE-1; 0.280 vs 0.294 en ROUGE-L).\n",
        "\n",
        "- BLEU: Sin contexto fue un poco mejor (0.135 vs 0.072).\n",
        "\n",
        "- Conclusión: No se aprecia una mejora clara con el contexto."
      ]
    }
  ],
  "metadata": {
    "colab": {
      "provenance": [],
      "gpuType": "T4"
    },
    "kernelspec": {
      "display_name": "Python 3",
      "name": "python3"
    },
    "language_info": {
      "name": "python"
    },
    "accelerator": "GPU"
  },
  "nbformat": 4,
  "nbformat_minor": 0
}